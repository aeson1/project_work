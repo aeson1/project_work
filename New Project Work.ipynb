{
 "cells": [
  {
   "cell_type": "code",
   "execution_count": 7,
   "metadata": {},
   "outputs": [],
   "source": [
    "import pandas as pd\n",
    "import numpy as np\n",
    "import pandas_datareader as pdr\n",
    "import matplotlib.pyplot as plt\n",
    "from heapq import nsmallest"
   ]
  },
  {
   "cell_type": "code",
   "execution_count": 77,
   "metadata": {},
   "outputs": [],
   "source": [
    "lista1 = [1, 2, 3, 4, 5]\n",
    "lista2 = lista1"
   ]
  },
  {
   "cell_type": "code",
   "execution_count": 78,
   "metadata": {},
   "outputs": [],
   "source": [
    "lista1[3] = 10"
   ]
  },
  {
   "cell_type": "code",
   "execution_count": 115,
   "metadata": {},
   "outputs": [],
   "source": [
    "tal = 3.1415"
   ]
  },
  {
   "cell_type": "code",
   "execution_count": 127,
   "metadata": {},
   "outputs": [
    {
     "name": "stdout",
     "output_type": "stream",
     "text": [
      "Talet avrundat blev : 3.14      \n",
      "Talet avrundat blev : 3.14\n",
      "Talet avrundat blev : 3.14\n"
     ]
    }
   ],
   "source": [
    "#print(f'Talet avrundat blev : {tal:10.2f}')\n",
    "print(f'Talet avrundat blev : {tal:<10.2f}')\n",
    "print(f'Talet avrundat blev : {tal:.2f}')\n",
    "print(f'Talet avrundat blev : {tal:.3}')"
   ]
  },
  {
   "cell_type": "markdown",
   "metadata": {},
   "source": [
    "## This code is splitted into multiple steps\n",
    "\n",
    "1. We explain the how we choose the stocks that we wanted to include in our portfolio.\n",
    "2. We get data from yahoo finance, process it and present it\n",
    "3. Preparing the data for LSTM"
   ]
  },
  {
   "cell_type": "code",
   "execution_count": 71,
   "metadata": {},
   "outputs": [],
   "source": [
    "x = random.randint(1,\n",
    "                   10) * random.randint(10, 20)"
   ]
  },
  {
   "cell_type": "code",
   "execution_count": 72,
   "metadata": {},
   "outputs": [
    {
     "data": {
      "text/plain": [
       "30"
      ]
     },
     "execution_count": 72,
     "metadata": {},
     "output_type": "execute_result"
    }
   ],
   "source": [
    "x"
   ]
  },
  {
   "cell_type": "code",
   "execution_count": 28,
   "metadata": {},
   "outputs": [
    {
     "ename": "SyntaxError",
     "evalue": "invalid syntax (<ipython-input-28-8dcf7b1e4d09>, line 1)",
     "output_type": "error",
     "traceback": [
      "\u001b[0;36m  File \u001b[0;32m\"<ipython-input-28-8dcf7b1e4d09>\"\u001b[0;36m, line \u001b[0;32m1\u001b[0m\n\u001b[0;31m    x = random.randint(1, %\u001b[0m\n\u001b[0m                          ^\u001b[0m\n\u001b[0;31mSyntaxError\u001b[0m\u001b[0;31m:\u001b[0m invalid syntax\n"
     ]
    }
   ],
   "source": [
    "x = random.randint(1, %\n",
    "                  10) * random.randint(10, 20)\n"
   ]
  },
  {
   "cell_type": "code",
   "execution_count": 46,
   "metadata": {},
   "outputs": [],
   "source": [
    "x = random.randint(1, 10) * random.randint(10, 20)"
   ]
  },
  {
   "cell_type": "code",
   "execution_count": 47,
   "metadata": {},
   "outputs": [
    {
     "data": {
      "text/plain": [
       "85"
      ]
     },
     "execution_count": 47,
     "metadata": {},
     "output_type": "execute_result"
    }
   ],
   "source": [
    "x"
   ]
  },
  {
   "cell_type": "code",
   "execution_count": 23,
   "metadata": {},
   "outputs": [],
   "source": [
    "import random"
   ]
  },
  {
   "cell_type": "code",
   "execution_count": 19,
   "metadata": {},
   "outputs": [
    {
     "data": {
      "text/plain": [
       "bool"
      ]
     },
     "execution_count": 19,
     "metadata": {},
     "output_type": "execute_result"
    }
   ],
   "source": [
    "type(True) "
   ]
  },
  {
   "cell_type": "markdown",
   "metadata": {},
   "source": [
    "## 1."
   ]
  },
  {
   "cell_type": "code",
   "execution_count": 26,
   "metadata": {},
   "outputs": [
    {
     "data": {
      "text/html": [
       "<div>\n",
       "<style scoped>\n",
       "    .dataframe tbody tr th:only-of-type {\n",
       "        vertical-align: middle;\n",
       "    }\n",
       "\n",
       "    .dataframe tbody tr th {\n",
       "        vertical-align: top;\n",
       "    }\n",
       "\n",
       "    .dataframe thead th {\n",
       "        text-align: right;\n",
       "    }\n",
       "</style>\n",
       "<table border=\"1\" class=\"dataframe\">\n",
       "  <thead>\n",
       "    <tr style=\"text-align: right;\">\n",
       "      <th></th>\n",
       "      <th>company</th>\n",
       "      <th>volume100d</th>\n",
       "      <th>sector</th>\n",
       "      <th>industry</th>\n",
       "    </tr>\n",
       "    <tr>\n",
       "      <th>listingdate</th>\n",
       "      <th></th>\n",
       "      <th></th>\n",
       "      <th></th>\n",
       "      <th></th>\n",
       "    </tr>\n",
       "  </thead>\n",
       "  <tbody>\n",
       "    <tr>\n",
       "      <th>1999-06-22</th>\n",
       "      <td>ABB</td>\n",
       "      <td>1411425,625</td>\n",
       "      <td>Industrials</td>\n",
       "      <td>Industrial Machinery</td>\n",
       "    </tr>\n",
       "    <tr>\n",
       "      <th>1994-11-08</th>\n",
       "      <td>Assa Abloy</td>\n",
       "      <td>2023678,875</td>\n",
       "      <td>Industrials</td>\n",
       "      <td>Construction Supplies</td>\n",
       "    </tr>\n",
       "    <tr>\n",
       "      <th>1999-04-06</th>\n",
       "      <td>AstraZeneca</td>\n",
       "      <td>501995,8438</td>\n",
       "      <td>Health Care</td>\n",
       "      <td>Pharmaceuticals</td>\n",
       "    </tr>\n",
       "    <tr>\n",
       "      <th>1973-01-01</th>\n",
       "      <td>Atlas Copco A</td>\n",
       "      <td>1111550,5</td>\n",
       "      <td>Industrials</td>\n",
       "      <td>Industrial Machinery</td>\n",
       "    </tr>\n",
       "    <tr>\n",
       "      <th>1994-07-14</th>\n",
       "      <td>Atrium Ljungberg</td>\n",
       "      <td>179766,4063</td>\n",
       "      <td>Financials</td>\n",
       "      <td>Real Estate</td>\n",
       "    </tr>\n",
       "    <tr>\n",
       "      <th>...</th>\n",
       "      <td>...</td>\n",
       "      <td>...</td>\n",
       "      <td>...</td>\n",
       "      <td>...</td>\n",
       "    </tr>\n",
       "    <tr>\n",
       "      <th>1989-07-03</th>\n",
       "      <td>SSAB B</td>\n",
       "      <td>3446860,5</td>\n",
       "      <td>Materials</td>\n",
       "      <td>Mining - Steel &amp; Aluminum</td>\n",
       "    </tr>\n",
       "    <tr>\n",
       "      <th>1997-01-02</th>\n",
       "      <td>Stora Enso A</td>\n",
       "      <td>13966,51953</td>\n",
       "      <td>Materials</td>\n",
       "      <td>Forest &amp; Wood Products</td>\n",
       "    </tr>\n",
       "    <tr>\n",
       "      <th>1998-08-24</th>\n",
       "      <td>Sweco A</td>\n",
       "      <td>2118,939941</td>\n",
       "      <td>Industrials</td>\n",
       "      <td>Business Consultants</td>\n",
       "    </tr>\n",
       "    <tr>\n",
       "      <th>1996-05-14</th>\n",
       "      <td>Tele2 A</td>\n",
       "      <td>2005,920044</td>\n",
       "      <td>Telecom</td>\n",
       "      <td>Telecommunications</td>\n",
       "    </tr>\n",
       "    <tr>\n",
       "      <th>1982-01-01</th>\n",
       "      <td>Volvo A</td>\n",
       "      <td>275950,375</td>\n",
       "      <td>Industrials</td>\n",
       "      <td>Industrial Machinery</td>\n",
       "    </tr>\n",
       "  </tbody>\n",
       "</table>\n",
       "<p>77 rows × 4 columns</p>\n",
       "</div>"
      ],
      "text/plain": [
       "                      company   volume100d       sector  \\\n",
       "listingdate                                               \n",
       "1999-06-22                ABB  1411425,625  Industrials   \n",
       "1994-11-08         Assa Abloy  2023678,875  Industrials   \n",
       "1999-04-06        AstraZeneca  501995,8438  Health Care   \n",
       "1973-01-01      Atlas Copco A    1111550,5  Industrials   \n",
       "1994-07-14   Atrium Ljungberg  179766,4063   Financials   \n",
       "...                       ...          ...          ...   \n",
       "1989-07-03             SSAB B    3446860,5    Materials   \n",
       "1997-01-02       Stora Enso A  13966,51953    Materials   \n",
       "1998-08-24            Sweco A  2118,939941  Industrials   \n",
       "1996-05-14            Tele2 A  2005,920044      Telecom   \n",
       "1982-01-01            Volvo A   275950,375  Industrials   \n",
       "\n",
       "                              industry  \n",
       "listingdate                             \n",
       "1999-06-22        Industrial Machinery  \n",
       "1994-11-08       Construction Supplies  \n",
       "1999-04-06             Pharmaceuticals  \n",
       "1973-01-01        Industrial Machinery  \n",
       "1994-07-14                 Real Estate  \n",
       "...                                ...  \n",
       "1989-07-03   Mining - Steel & Aluminum  \n",
       "1997-01-02      Forest & Wood Products  \n",
       "1998-08-24        Business Consultants  \n",
       "1996-05-14          Telecommunications  \n",
       "1982-01-01        Industrial Machinery  \n",
       "\n",
       "[77 rows x 4 columns]"
      ]
     },
     "execution_count": 26,
     "metadata": {},
     "output_type": "execute_result"
    }
   ],
   "source": [
    "# Reading in a list of stocks from the NASDAQ largecap exchange. These are then filtered for time on the stoch exchange. \n",
    "stocks_raw = pd.read_csv('/mnt/c/Users/Anton/Dropbox/PythonProjects/Python Projects/Python in Financial Engineering/Project Work/largecap.csv', sep=';', encoding='latin-1', parse_dates = True, infer_datetime_format = True, index_col = 'listingdate')\n",
    "stocks_filtered = stocks_raw[stocks_raw.index <= '2000-01-01'].copy()\n",
    "stocks_filtered"
   ]
  },
  {
   "cell_type": "code",
   "execution_count": 27,
   "metadata": {},
   "outputs": [
    {
     "data": {
      "text/html": [
       "<div>\n",
       "<style scoped>\n",
       "    .dataframe tbody tr th:only-of-type {\n",
       "        vertical-align: middle;\n",
       "    }\n",
       "\n",
       "    .dataframe tbody tr th {\n",
       "        vertical-align: top;\n",
       "    }\n",
       "\n",
       "    .dataframe thead th {\n",
       "        text-align: right;\n",
       "    }\n",
       "</style>\n",
       "<table border=\"1\" class=\"dataframe\">\n",
       "  <thead>\n",
       "    <tr style=\"text-align: right;\">\n",
       "      <th></th>\n",
       "      <th>company</th>\n",
       "      <th>volume100d</th>\n",
       "      <th>sector</th>\n",
       "      <th>industry</th>\n",
       "    </tr>\n",
       "    <tr>\n",
       "      <th>listingdate</th>\n",
       "      <th></th>\n",
       "      <th></th>\n",
       "      <th></th>\n",
       "      <th></th>\n",
       "    </tr>\n",
       "  </thead>\n",
       "  <tbody>\n",
       "    <tr>\n",
       "      <th>1999-06-22</th>\n",
       "      <td>ABB</td>\n",
       "      <td>1411425.625</td>\n",
       "      <td>Industrials</td>\n",
       "      <td>Industrial Machinery</td>\n",
       "    </tr>\n",
       "    <tr>\n",
       "      <th>1994-11-08</th>\n",
       "      <td>Assa Abloy</td>\n",
       "      <td>2023678.875</td>\n",
       "      <td>Industrials</td>\n",
       "      <td>Construction Supplies</td>\n",
       "    </tr>\n",
       "    <tr>\n",
       "      <th>1973-01-01</th>\n",
       "      <td>Atlas Copco A</td>\n",
       "      <td>1111550.500</td>\n",
       "      <td>Industrials</td>\n",
       "      <td>Industrial Machinery</td>\n",
       "    </tr>\n",
       "    <tr>\n",
       "      <th>1985-01-01</th>\n",
       "      <td>Electrolux B</td>\n",
       "      <td>1247480.375</td>\n",
       "      <td>Consumer Durables</td>\n",
       "      <td>Consumer Electronics</td>\n",
       "    </tr>\n",
       "    <tr>\n",
       "      <th>1994-03-01</th>\n",
       "      <td>Elekta</td>\n",
       "      <td>1535047.875</td>\n",
       "      <td>Health Care</td>\n",
       "      <td>Medical Equipment</td>\n",
       "    </tr>\n",
       "    <tr>\n",
       "      <th>1976-01-01</th>\n",
       "      <td>Ericsson B</td>\n",
       "      <td>7240196.500</td>\n",
       "      <td>Technology</td>\n",
       "      <td>Communications</td>\n",
       "    </tr>\n",
       "    <tr>\n",
       "      <th>1995-06-08</th>\n",
       "      <td>Getinge</td>\n",
       "      <td>1074312.375</td>\n",
       "      <td>Health Care</td>\n",
       "      <td>Medical Supplies</td>\n",
       "    </tr>\n",
       "    <tr>\n",
       "      <th>1974-06-17</th>\n",
       "      <td>Hennes &amp; Mauritz</td>\n",
       "      <td>4813372.000</td>\n",
       "      <td>Consumer Durables</td>\n",
       "      <td>Clothing &amp; Footwear</td>\n",
       "    </tr>\n",
       "    <tr>\n",
       "      <th>1997-12-15</th>\n",
       "      <td>Nordea Bank</td>\n",
       "      <td>7857396.500</td>\n",
       "      <td>Financials</td>\n",
       "      <td>Banks</td>\n",
       "    </tr>\n",
       "    <tr>\n",
       "      <th>1989-01-01</th>\n",
       "      <td>Sandvik</td>\n",
       "      <td>2624841.500</td>\n",
       "      <td>Industrials</td>\n",
       "      <td>Industrial Machinery</td>\n",
       "    </tr>\n",
       "    <tr>\n",
       "      <th>1987-01-01</th>\n",
       "      <td>SCA B</td>\n",
       "      <td>1765903.125</td>\n",
       "      <td>Materials</td>\n",
       "      <td>Forest &amp; Wood Products</td>\n",
       "    </tr>\n",
       "    <tr>\n",
       "      <th>1975-01-01</th>\n",
       "      <td>SEB A</td>\n",
       "      <td>4364754.000</td>\n",
       "      <td>Financials</td>\n",
       "      <td>Banks</td>\n",
       "    </tr>\n",
       "    <tr>\n",
       "      <th>1991-07-09</th>\n",
       "      <td>Securitas</td>\n",
       "      <td>1292955.250</td>\n",
       "      <td>Industrials</td>\n",
       "      <td>Security</td>\n",
       "    </tr>\n",
       "    <tr>\n",
       "      <th>1987-01-01</th>\n",
       "      <td>Handelsbanken A</td>\n",
       "      <td>5293509.000</td>\n",
       "      <td>Financials</td>\n",
       "      <td>Banks</td>\n",
       "    </tr>\n",
       "    <tr>\n",
       "      <th>1965-01-01</th>\n",
       "      <td>Skanska</td>\n",
       "      <td>1079145.125</td>\n",
       "      <td>Industrials</td>\n",
       "      <td>Construction &amp; Infrastructure</td>\n",
       "    </tr>\n",
       "    <tr>\n",
       "      <th>1982-01-01</th>\n",
       "      <td>SKF B</td>\n",
       "      <td>1549650.250</td>\n",
       "      <td>Industrials</td>\n",
       "      <td>Industrial Components</td>\n",
       "    </tr>\n",
       "    <tr>\n",
       "      <th>1989-07-03</th>\n",
       "      <td>SSAB A</td>\n",
       "      <td>4616178.500</td>\n",
       "      <td>Materials</td>\n",
       "      <td>Mining - Steel &amp; Aluminum</td>\n",
       "    </tr>\n",
       "    <tr>\n",
       "      <th>1995-06-09</th>\n",
       "      <td>Swedbank</td>\n",
       "      <td>3557981.500</td>\n",
       "      <td>Financials</td>\n",
       "      <td>Banks</td>\n",
       "    </tr>\n",
       "    <tr>\n",
       "      <th>1996-05-14</th>\n",
       "      <td>Tele2 B</td>\n",
       "      <td>2666959.500</td>\n",
       "      <td>Telecom</td>\n",
       "      <td>Telecommunications</td>\n",
       "    </tr>\n",
       "    <tr>\n",
       "      <th>1982-01-01</th>\n",
       "      <td>Volvo B</td>\n",
       "      <td>4372945.000</td>\n",
       "      <td>Industrials</td>\n",
       "      <td>Industrial Machinery</td>\n",
       "    </tr>\n",
       "    <tr>\n",
       "      <th>1989-07-03</th>\n",
       "      <td>SSAB B</td>\n",
       "      <td>3446860.500</td>\n",
       "      <td>Materials</td>\n",
       "      <td>Mining - Steel &amp; Aluminum</td>\n",
       "    </tr>\n",
       "  </tbody>\n",
       "</table>\n",
       "</div>"
      ],
      "text/plain": [
       "                      company   volume100d             sector  \\\n",
       "listingdate                                                     \n",
       "1999-06-22                ABB  1411425.625        Industrials   \n",
       "1994-11-08         Assa Abloy  2023678.875        Industrials   \n",
       "1973-01-01      Atlas Copco A  1111550.500        Industrials   \n",
       "1985-01-01       Electrolux B  1247480.375  Consumer Durables   \n",
       "1994-03-01             Elekta  1535047.875        Health Care   \n",
       "1976-01-01         Ericsson B  7240196.500         Technology   \n",
       "1995-06-08            Getinge  1074312.375        Health Care   \n",
       "1974-06-17   Hennes & Mauritz  4813372.000  Consumer Durables   \n",
       "1997-12-15        Nordea Bank  7857396.500         Financials   \n",
       "1989-01-01            Sandvik  2624841.500        Industrials   \n",
       "1987-01-01              SCA B  1765903.125          Materials   \n",
       "1975-01-01              SEB A  4364754.000         Financials   \n",
       "1991-07-09          Securitas  1292955.250        Industrials   \n",
       "1987-01-01    Handelsbanken A  5293509.000         Financials   \n",
       "1965-01-01            Skanska  1079145.125        Industrials   \n",
       "1982-01-01              SKF B  1549650.250        Industrials   \n",
       "1989-07-03             SSAB A  4616178.500          Materials   \n",
       "1995-06-09           Swedbank  3557981.500         Financials   \n",
       "1996-05-14            Tele2 B  2666959.500            Telecom   \n",
       "1982-01-01            Volvo B  4372945.000        Industrials   \n",
       "1989-07-03             SSAB B  3446860.500          Materials   \n",
       "\n",
       "                                  industry  \n",
       "listingdate                                 \n",
       "1999-06-22            Industrial Machinery  \n",
       "1994-11-08           Construction Supplies  \n",
       "1973-01-01            Industrial Machinery  \n",
       "1985-01-01            Consumer Electronics  \n",
       "1994-03-01               Medical Equipment  \n",
       "1976-01-01                  Communications  \n",
       "1995-06-08                Medical Supplies  \n",
       "1974-06-17             Clothing & Footwear  \n",
       "1997-12-15                           Banks  \n",
       "1989-01-01            Industrial Machinery  \n",
       "1987-01-01          Forest & Wood Products  \n",
       "1975-01-01                           Banks  \n",
       "1991-07-09                        Security  \n",
       "1987-01-01                           Banks  \n",
       "1965-01-01   Construction & Infrastructure  \n",
       "1982-01-01           Industrial Components  \n",
       "1989-07-03       Mining - Steel & Aluminum  \n",
       "1995-06-09                           Banks  \n",
       "1996-05-14              Telecommunications  \n",
       "1982-01-01            Industrial Machinery  \n",
       "1989-07-03       Mining - Steel & Aluminum  "
      ]
     },
     "execution_count": 27,
     "metadata": {},
     "output_type": "execute_result"
    }
   ],
   "source": [
    "# Filtering for stocks that have a volume that is higher than the mean. This is to only get those stocks that are liquid\n",
    "stocks_filtered['volume100d'] = stocks_filtered['volume100d'].str.replace(',', '.').astype(float)\n",
    "stocks_filtered = stocks_filtered[stocks_filtered['volume100d'] >= stocks_filtered['volume100d'].mean()]\n",
    "stocks_filtered"
   ]
  },
  {
   "cell_type": "code",
   "execution_count": 18,
   "metadata": {},
   "outputs": [
    {
     "name": "stdout",
     "output_type": "stream",
     "text": [
      "9\n",
      "7\n"
     ]
    },
    {
     "data": {
      "text/plain": [
       "0.7777777777777778"
      ]
     },
     "execution_count": 18,
     "metadata": {},
     "output_type": "execute_result"
    }
   ],
   "source": [
    "# Looking how many unique sectors there are. \n",
    "\n",
    "print(len(stocks_raw['sector'].unique()))\n",
    "print(len(stocks_filtered['sector'].unique()))\n",
    "len(stocks_filtered['sector'].unique()) / len(stocks_raw['sector'].unique())"
   ]
  },
  {
   "cell_type": "code",
   "execution_count": 22,
   "metadata": {},
   "outputs": [
    {
     "name": "stdout",
     "output_type": "stream",
     "text": [
      "14\n",
      "7\n"
     ]
    }
   ],
   "source": [
    "# Dropping the duplicates within industry and sector.\n",
    "\n",
    "stocks_filtered_industry = stocks_filtered.drop_duplicates('industry')\n",
    "stocks_filtered_sector = stocks_filtered.drop_duplicates('sector')\n",
    "print(len(stocks_filtered_industry))\n",
    "print(len(stocks_filtered_sector))"
   ]
  },
  {
   "cell_type": "code",
   "execution_count": 23,
   "metadata": {},
   "outputs": [
    {
     "name": "stdout",
     "output_type": "stream",
     "text": [
      "                      company   volume100d             sector  \\\n",
      "listingdate                                                     \n",
      "1999-06-22                ABB  1411425.625        Industrials   \n",
      "1994-11-08         Assa Abloy  2023678.875        Industrials   \n",
      "1985-01-01       Electrolux B  1247480.375  Consumer Durables   \n",
      "1994-03-01             Elekta  1535047.875        Health Care   \n",
      "1976-01-01         Ericsson B  7240196.500         Technology   \n",
      "1995-06-08            Getinge  1074312.375        Health Care   \n",
      "1974-06-17   Hennes & Mauritz  4813372.000  Consumer Durables   \n",
      "1997-12-15        Nordea Bank  7857396.500         Financials   \n",
      "1987-01-01              SCA B  1765903.125          Materials   \n",
      "1991-07-09          Securitas  1292955.250        Industrials   \n",
      "1965-01-01            Skanska  1079145.125        Industrials   \n",
      "1982-01-01              SKF B  1549650.250        Industrials   \n",
      "1989-07-03             SSAB A  4616178.500          Materials   \n",
      "1996-05-14            Tele2 B  2666959.500            Telecom   \n",
      "\n",
      "                                  industry  \n",
      "listingdate                                 \n",
      "1999-06-22            Industrial Machinery  \n",
      "1994-11-08           Construction Supplies  \n",
      "1985-01-01            Consumer Electronics  \n",
      "1994-03-01               Medical Equipment  \n",
      "1976-01-01                  Communications  \n",
      "1995-06-08                Medical Supplies  \n",
      "1974-06-17             Clothing & Footwear  \n",
      "1997-12-15                           Banks  \n",
      "1987-01-01          Forest & Wood Products  \n",
      "1991-07-09                        Security  \n",
      "1965-01-01   Construction & Infrastructure  \n",
      "1982-01-01           Industrial Components  \n",
      "1989-07-03       Mining - Steel & Aluminum  \n",
      "1996-05-14              Telecommunications  \n",
      "                  company   volume100d             sector  \\\n",
      "listingdate                                                 \n",
      "1999-06-22            ABB  1411425.625        Industrials   \n",
      "1985-01-01   Electrolux B  1247480.375  Consumer Durables   \n",
      "1994-03-01         Elekta  1535047.875        Health Care   \n",
      "1976-01-01     Ericsson B  7240196.500         Technology   \n",
      "1997-12-15    Nordea Bank  7857396.500         Financials   \n",
      "1987-01-01          SCA B  1765903.125          Materials   \n",
      "1996-05-14        Tele2 B  2666959.500            Telecom   \n",
      "\n",
      "                           industry  \n",
      "listingdate                          \n",
      "1999-06-22     Industrial Machinery  \n",
      "1985-01-01     Consumer Electronics  \n",
      "1994-03-01        Medical Equipment  \n",
      "1976-01-01           Communications  \n",
      "1997-12-15                    Banks  \n",
      "1987-01-01   Forest & Wood Products  \n",
      "1996-05-14       Telecommunications  \n"
     ]
    }
   ],
   "source": [
    "# Printing the results after removing duplicates. \n",
    "\n",
    "print(stocks_filtered_industry)\n",
    "print(stocks_filtered_sector)"
   ]
  },
  {
   "cell_type": "code",
   "execution_count": 5,
   "metadata": {},
   "outputs": [],
   "source": [
    "# Picking the stocks from the unique industry list as it gives a nice diversification.\n",
    "tickers = ['ABB.ST', 'ASSA-B.ST', 'ELUX-B.ST', 'EKTA-B.ST', 'ERIC-B.ST', 'GETI-B.ST', 'HM-B.ST', 'NDA-SE.ST', 'SCA-B.ST', 'SECU-B.ST', 'SKA-B.ST', 'SKF-B.ST', 'SSAB-B.ST', 'TEL2-B.ST']"
   ]
  },
  {
   "cell_type": "code",
   "execution_count": 45,
   "metadata": {},
   "outputs": [
    {
     "data": {
      "text/html": [
       "<div>\n",
       "<style scoped>\n",
       "    .dataframe tbody tr th:only-of-type {\n",
       "        vertical-align: middle;\n",
       "    }\n",
       "\n",
       "    .dataframe tbody tr th {\n",
       "        vertical-align: top;\n",
       "    }\n",
       "\n",
       "    .dataframe thead th {\n",
       "        text-align: right;\n",
       "    }\n",
       "</style>\n",
       "<table border=\"1\" class=\"dataframe\">\n",
       "  <thead>\n",
       "    <tr style=\"text-align: right;\">\n",
       "      <th>Symbols</th>\n",
       "      <th>ABB.ST</th>\n",
       "      <th>ASSA-B.ST</th>\n",
       "      <th>ELUX-B.ST</th>\n",
       "      <th>EKTA-B.ST</th>\n",
       "      <th>ERIC-B.ST</th>\n",
       "      <th>GETI-B.ST</th>\n",
       "      <th>HM-B.ST</th>\n",
       "      <th>NDA-SE.ST</th>\n",
       "      <th>SCA-B.ST</th>\n",
       "      <th>SECU-B.ST</th>\n",
       "      <th>SKA-B.ST</th>\n",
       "      <th>SKF-B.ST</th>\n",
       "      <th>SSAB-B.ST</th>\n",
       "      <th>TEL2-B.ST</th>\n",
       "    </tr>\n",
       "    <tr>\n",
       "      <th>Date</th>\n",
       "      <th></th>\n",
       "      <th></th>\n",
       "      <th></th>\n",
       "      <th></th>\n",
       "      <th></th>\n",
       "      <th></th>\n",
       "      <th></th>\n",
       "      <th></th>\n",
       "      <th></th>\n",
       "      <th></th>\n",
       "      <th></th>\n",
       "      <th></th>\n",
       "      <th></th>\n",
       "      <th></th>\n",
       "    </tr>\n",
       "  </thead>\n",
       "  <tbody>\n",
       "    <tr>\n",
       "      <th>2012-06-18</th>\n",
       "      <td>112.599998</td>\n",
       "      <td>62.400002</td>\n",
       "      <td>127.900002</td>\n",
       "      <td>81.449997</td>\n",
       "      <td>63.299999</td>\n",
       "      <td>143.835999</td>\n",
       "      <td>226.399994</td>\n",
       "      <td>56.250000</td>\n",
       "      <td>21.233601</td>\n",
       "      <td>53.599998</td>\n",
       "      <td>99.699997</td>\n",
       "      <td>132.199997</td>\n",
       "      <td>34.571098</td>\n",
       "      <td>101.084000</td>\n",
       "    </tr>\n",
       "    <tr>\n",
       "      <th>2012-06-19</th>\n",
       "      <td>114.900002</td>\n",
       "      <td>62.866699</td>\n",
       "      <td>129.800003</td>\n",
       "      <td>81.050003</td>\n",
       "      <td>64.500000</td>\n",
       "      <td>143.673996</td>\n",
       "      <td>230.399994</td>\n",
       "      <td>57.799999</td>\n",
       "      <td>21.233601</td>\n",
       "      <td>54.049999</td>\n",
       "      <td>100.500000</td>\n",
       "      <td>134.500000</td>\n",
       "      <td>35.603901</td>\n",
       "      <td>102.625999</td>\n",
       "    </tr>\n",
       "    <tr>\n",
       "      <th>2012-06-20</th>\n",
       "      <td>115.099998</td>\n",
       "      <td>63.466702</td>\n",
       "      <td>136.300003</td>\n",
       "      <td>81.599998</td>\n",
       "      <td>64.800003</td>\n",
       "      <td>142.298004</td>\n",
       "      <td>241.500000</td>\n",
       "      <td>58.150002</td>\n",
       "      <td>21.233601</td>\n",
       "      <td>54.349998</td>\n",
       "      <td>101.900002</td>\n",
       "      <td>137.300003</td>\n",
       "      <td>36.622002</td>\n",
       "      <td>102.722000</td>\n",
       "    </tr>\n",
       "    <tr>\n",
       "      <th>2012-06-21</th>\n",
       "      <td>114.800003</td>\n",
       "      <td>63.366699</td>\n",
       "      <td>137.199997</td>\n",
       "      <td>81.849998</td>\n",
       "      <td>63.599998</td>\n",
       "      <td>141.246002</td>\n",
       "      <td>246.199997</td>\n",
       "      <td>57.650002</td>\n",
       "      <td>21.090900</td>\n",
       "      <td>53.849998</td>\n",
       "      <td>101.400002</td>\n",
       "      <td>135.100006</td>\n",
       "      <td>37.098000</td>\n",
       "      <td>99.734802</td>\n",
       "    </tr>\n",
       "    <tr>\n",
       "      <th>2012-06-25</th>\n",
       "      <td>109.900002</td>\n",
       "      <td>62.400002</td>\n",
       "      <td>133.000000</td>\n",
       "      <td>79.500000</td>\n",
       "      <td>62.000000</td>\n",
       "      <td>140.113007</td>\n",
       "      <td>242.300003</td>\n",
       "      <td>56.400002</td>\n",
       "      <td>20.601299</td>\n",
       "      <td>52.450001</td>\n",
       "      <td>98.900002</td>\n",
       "      <td>129.500000</td>\n",
       "      <td>34.651699</td>\n",
       "      <td>99.445702</td>\n",
       "    </tr>\n",
       "  </tbody>\n",
       "</table>\n",
       "</div>"
      ],
      "text/plain": [
       "Symbols         ABB.ST  ASSA-B.ST   ELUX-B.ST  EKTA-B.ST  ERIC-B.ST  \\\n",
       "Date                                                                  \n",
       "2012-06-18  112.599998  62.400002  127.900002  81.449997  63.299999   \n",
       "2012-06-19  114.900002  62.866699  129.800003  81.050003  64.500000   \n",
       "2012-06-20  115.099998  63.466702  136.300003  81.599998  64.800003   \n",
       "2012-06-21  114.800003  63.366699  137.199997  81.849998  63.599998   \n",
       "2012-06-25  109.900002  62.400002  133.000000  79.500000  62.000000   \n",
       "\n",
       "Symbols      GETI-B.ST     HM-B.ST  NDA-SE.ST   SCA-B.ST  SECU-B.ST  \\\n",
       "Date                                                                  \n",
       "2012-06-18  143.835999  226.399994  56.250000  21.233601  53.599998   \n",
       "2012-06-19  143.673996  230.399994  57.799999  21.233601  54.049999   \n",
       "2012-06-20  142.298004  241.500000  58.150002  21.233601  54.349998   \n",
       "2012-06-21  141.246002  246.199997  57.650002  21.090900  53.849998   \n",
       "2012-06-25  140.113007  242.300003  56.400002  20.601299  52.450001   \n",
       "\n",
       "Symbols       SKA-B.ST    SKF-B.ST  SSAB-B.ST   TEL2-B.ST  \n",
       "Date                                                       \n",
       "2012-06-18   99.699997  132.199997  34.571098  101.084000  \n",
       "2012-06-19  100.500000  134.500000  35.603901  102.625999  \n",
       "2012-06-20  101.900002  137.300003  36.622002  102.722000  \n",
       "2012-06-21  101.400002  135.100006  37.098000   99.734802  \n",
       "2012-06-25   98.900002  129.500000  34.651699   99.445702  "
      ]
     },
     "execution_count": 45,
     "metadata": {},
     "output_type": "execute_result"
    }
   ],
   "source": [
    "df = pdr.get_data_yahoo(tickers, start = '2000-01-01', end = '2020-12-10')['Close']\n",
    "df = df.dropna()\n",
    "df.head()"
   ]
  },
  {
   "cell_type": "code",
   "execution_count": 62,
   "metadata": {},
   "outputs": [
    {
     "name": "stdout",
     "output_type": "stream",
     "text": [
      "Symbols      ABB.ST  ASSA-B.ST  ELUX-B.ST  EKTA-B.ST  ERIC-B.ST  GETI-B.ST  \\\n",
      "Symbols                                                                      \n",
      "ABB.ST     1.000000   0.551133   0.450056   0.309828   0.408138   0.278441   \n",
      "ASSA-B.ST  0.551133   1.000000   0.412301   0.291934   0.365384   0.330482   \n",
      "ELUX-B.ST  0.450056   0.412301   1.000000   0.230915   0.287909   0.251236   \n",
      "EKTA-B.ST  0.309828   0.291934   0.230915   1.000000   0.215705   0.266704   \n",
      "ERIC-B.ST  0.408138   0.365384   0.287909   0.215705   1.000000   0.250783   \n",
      "GETI-B.ST  0.278441   0.330482   0.251236   0.266704   0.250783   1.000000   \n",
      "HM-B.ST    0.395156   0.406861   0.361358   0.242273   0.270380   0.154107   \n",
      "NDA-SE.ST  0.536900   0.473044   0.415614   0.242199   0.367478   0.229671   \n",
      "SCA-B.ST   0.466167   0.444881   0.380658   0.296256   0.363928   0.288879   \n",
      "SECU-B.ST  0.501598   0.538117   0.391645   0.280789   0.345475   0.254558   \n",
      "SKA-B.ST   0.557000   0.538289   0.413516   0.285710   0.353931   0.256461   \n",
      "SKF-B.ST   0.612646   0.545771   0.447416   0.281339   0.328304   0.264776   \n",
      "SSAB-B.ST  0.483609   0.390880   0.352877   0.235829   0.302891   0.174476   \n",
      "TEL2-B.ST  0.351977   0.336978   0.262719   0.189015   0.335138   0.221433   \n",
      "\n",
      "Symbols     HM-B.ST  NDA-SE.ST  SCA-B.ST  SECU-B.ST  SKA-B.ST  SKF-B.ST  \\\n",
      "Symbols                                                                   \n",
      "ABB.ST     0.395156   0.536900  0.466167   0.501598  0.557000  0.612646   \n",
      "ASSA-B.ST  0.406861   0.473044  0.444881   0.538117  0.538289  0.545771   \n",
      "ELUX-B.ST  0.361358   0.415614  0.380658   0.391645  0.413516  0.447416   \n",
      "EKTA-B.ST  0.242273   0.242199  0.296256   0.280789  0.285710  0.281339   \n",
      "ERIC-B.ST  0.270380   0.367478  0.363928   0.345475  0.353931  0.328304   \n",
      "GETI-B.ST  0.154107   0.229671  0.288879   0.254558  0.256461  0.264776   \n",
      "HM-B.ST    1.000000   0.423641  0.388743   0.411571  0.442182  0.367955   \n",
      "NDA-SE.ST  0.423641   1.000000  0.401215   0.450142  0.540480  0.512431   \n",
      "SCA-B.ST   0.388743   0.401215  1.000000   0.412885  0.428717  0.422285   \n",
      "SECU-B.ST  0.411571   0.450142  0.412885   1.000000  0.516212  0.498442   \n",
      "SKA-B.ST   0.442182   0.540480  0.428717   0.516212  1.000000  0.536135   \n",
      "SKF-B.ST   0.367955   0.512431  0.422285   0.498442  0.536135  1.000000   \n",
      "SSAB-B.ST  0.354173   0.452063  0.350681   0.411119  0.459950  0.512576   \n",
      "TEL2-B.ST  0.263693   0.311428  0.289564   0.317447  0.360949  0.313388   \n",
      "\n",
      "Symbols    SSAB-B.ST  TEL2-B.ST  \n",
      "Symbols                          \n",
      "ABB.ST      0.483609   0.351977  \n",
      "ASSA-B.ST   0.390880   0.336978  \n",
      "ELUX-B.ST   0.352877   0.262719  \n",
      "EKTA-B.ST   0.235829   0.189015  \n",
      "ERIC-B.ST   0.302891   0.335138  \n",
      "GETI-B.ST   0.174476   0.221433  \n",
      "HM-B.ST     0.354173   0.263693  \n",
      "NDA-SE.ST   0.452063   0.311428  \n",
      "SCA-B.ST    0.350681   0.289564  \n",
      "SECU-B.ST   0.411119   0.317447  \n",
      "SKA-B.ST    0.459950   0.360949  \n",
      "SKF-B.ST    0.512576   0.313388  \n",
      "SSAB-B.ST   1.000000   0.264081  \n",
      "TEL2-B.ST   0.264081   1.000000  \n"
     ]
    }
   ],
   "source": [
    "# We compute the log-return correlation matrix. \n",
    "\n",
    "logReturn = np.log(df/df.shift(1))\n",
    "corr_matrix = logReturn.corr()\n",
    "corr_matrix_box_mean = corr_matrix.mean()\n",
    "print(corr_matrix)"
   ]
  },
  {
   "cell_type": "code",
   "execution_count": 50,
   "metadata": {},
   "outputs": [
    {
     "name": "stdout",
     "output_type": "stream",
     "text": [
      "Symbols\n",
      "ABB.ST       0.493046\n",
      "ASSA-B.ST    0.473290\n",
      "ELUX-B.ST    0.404159\n",
      "EKTA-B.ST    0.312036\n",
      "ERIC-B.ST    0.371103\n",
      "GETI-B.ST    0.301572\n",
      "HM-B.ST      0.391578\n",
      "NDA-SE.ST    0.454022\n",
      "SCA-B.ST     0.423918\n",
      "SECU-B.ST    0.452143\n",
      "SKA-B.ST     0.477824\n",
      "SKF-B.ST     0.474533\n",
      "SSAB-B.ST    0.410372\n",
      "TEL2-B.ST    0.344129\n",
      "dtype: float64\n"
     ]
    }
   ],
   "source": [
    "# We look at the mean correlation between the assets\n",
    "print(corr_matrix_box_mean)"
   ]
  },
  {
   "cell_type": "code",
   "execution_count": 51,
   "metadata": {},
   "outputs": [
    {
     "name": "stdout",
     "output_type": "stream",
     "text": [
      "[0.3015719006389189, 0.31203558161164124, 0.344129426140454, 0.3711031739792328, 0.3915780588071901, 0.404158515591401]\n",
      "[SKA-B.ST,            EKTA-B.ST,           GETI-B.ST,           ERIC-B.ST,         TELE2-B.ST,         HM-B.st            ]\n"
     ]
    }
   ],
   "source": [
    "# We look at the assets which had the smallest mean correlation between eachother.\n",
    "\n",
    "print(nsmallest(6, corr_matrix_box_mean))\n",
    "print('[SKA-B.ST,            EKTA-B.ST,           GETI-B.ST,           ERIC-B.ST,         TEL2-B.ST,         HM-B.st            ]')"
   ]
  },
  {
   "cell_type": "markdown",
   "metadata": {},
   "source": [
    "## 2. "
   ]
  },
  {
   "cell_type": "code",
   "execution_count": 261,
   "metadata": {},
   "outputs": [],
   "source": [
    "tickers = ['SKA-B.ST', 'EKTA-B.ST', 'GETI-B.ST', 'ERIC-B.ST', 'TEL2-B.ST', 'HM-B.ST']\n",
    "#stock_data = ext_datareader(tickers, start='2014-10-01', end='2020-10-01')"
   ]
  },
  {
   "cell_type": "code",
   "execution_count": 474,
   "metadata": {},
   "outputs": [
    {
     "data": {
      "text/html": [
       "<div>\n",
       "<style scoped>\n",
       "    .dataframe tbody tr th:only-of-type {\n",
       "        vertical-align: middle;\n",
       "    }\n",
       "\n",
       "    .dataframe tbody tr th {\n",
       "        vertical-align: top;\n",
       "    }\n",
       "\n",
       "    .dataframe thead th {\n",
       "        text-align: right;\n",
       "    }\n",
       "</style>\n",
       "<table border=\"1\" class=\"dataframe\">\n",
       "  <thead>\n",
       "    <tr style=\"text-align: right;\">\n",
       "      <th>Asset</th>\n",
       "      <th>SKA</th>\n",
       "      <th>EKTA</th>\n",
       "      <th>GETI</th>\n",
       "      <th>ERIC</th>\n",
       "      <th>TEL2</th>\n",
       "      <th>HM</th>\n",
       "    </tr>\n",
       "  </thead>\n",
       "  <tbody>\n",
       "    <tr>\n",
       "      <th>2014-10-01</th>\n",
       "      <td>145.800003</td>\n",
       "      <td>70.550003</td>\n",
       "      <td>146.425995</td>\n",
       "      <td>90.400002</td>\n",
       "      <td>83.064201</td>\n",
       "      <td>294.500000</td>\n",
       "    </tr>\n",
       "    <tr>\n",
       "      <th>2014-10-02</th>\n",
       "      <td>144.600006</td>\n",
       "      <td>71.250000</td>\n",
       "      <td>145.455002</td>\n",
       "      <td>89.250000</td>\n",
       "      <td>81.811501</td>\n",
       "      <td>288.399994</td>\n",
       "    </tr>\n",
       "    <tr>\n",
       "      <th>2014-10-03</th>\n",
       "      <td>147.699997</td>\n",
       "      <td>71.050003</td>\n",
       "      <td>147.559998</td>\n",
       "      <td>90.599998</td>\n",
       "      <td>82.486000</td>\n",
       "      <td>291.000000</td>\n",
       "    </tr>\n",
       "    <tr>\n",
       "      <th>2014-10-06</th>\n",
       "      <td>146.600006</td>\n",
       "      <td>71.000000</td>\n",
       "      <td>148.044998</td>\n",
       "      <td>89.500000</td>\n",
       "      <td>83.256897</td>\n",
       "      <td>290.500000</td>\n",
       "    </tr>\n",
       "    <tr>\n",
       "      <th>2014-10-07</th>\n",
       "      <td>144.800003</td>\n",
       "      <td>70.500000</td>\n",
       "      <td>147.317001</td>\n",
       "      <td>86.849998</td>\n",
       "      <td>82.486000</td>\n",
       "      <td>286.200012</td>\n",
       "    </tr>\n",
       "  </tbody>\n",
       "</table>\n",
       "</div>"
      ],
      "text/plain": [
       "Asset              SKA       EKTA        GETI       ERIC       TEL2  \\\n",
       "2014-10-01  145.800003  70.550003  146.425995  90.400002  83.064201   \n",
       "2014-10-02  144.600006  71.250000  145.455002  89.250000  81.811501   \n",
       "2014-10-03  147.699997  71.050003  147.559998  90.599998  82.486000   \n",
       "2014-10-06  146.600006  71.000000  148.044998  89.500000  83.256897   \n",
       "2014-10-07  144.800003  70.500000  147.317001  86.849998  82.486000   \n",
       "\n",
       "Asset               HM  \n",
       "2014-10-01  294.500000  \n",
       "2014-10-02  288.399994  \n",
       "2014-10-03  291.000000  \n",
       "2014-10-06  290.500000  \n",
       "2014-10-07  286.200012  "
      ]
     },
     "execution_count": 474,
     "metadata": {},
     "output_type": "execute_result"
    }
   ],
   "source": [
    "stock_data.head()"
   ]
  },
  {
   "cell_type": "code",
   "execution_count": 79,
   "metadata": {},
   "outputs": [],
   "source": [
    "import math\n",
    "from sklearn.preprocessing import MinMaxScaler, StandardScaler\n",
    "from keras.models import Sequential\n",
    "from keras.layers import Dense, LSTM\n",
    "from keras.callbacks import EarlyStopping\n",
    "from numpy import array"
   ]
  },
  {
   "cell_type": "code",
   "execution_count": 303,
   "metadata": {},
   "outputs": [],
   "source": [
    "\"\"\" We create a class because we need the stock-data from every asset within our portfolio. \n",
    "By storing the dowloaded data within the object, we only need to specify our portfolio once,\n",
    "then we can train a model on every individual asset.\n",
    "\"\"\"\n",
    "\n",
    "\n",
    "class Portfolio(object):\n",
    "    def __init__(self, tickers, start, end):\n",
    "        self.tickers = tickers\n",
    "        self.start = start\n",
    "        self.end = end\n",
    "        self._data = self.ext_datareader() # Runs the ext_datareader when we initialize the data_reader\n",
    "        \n",
    "        \n",
    "    def ext_datareader(self):\n",
    "        \"\"\"Converts pandas-datareader yahoo data to a cleaner format.\n",
    "        Parameters\n",
    "        ----------\n",
    "        raw_data : pd.DataFrame\n",
    "            Rows represents different timestamps stored in index. Note that there can be gaps. Columns are pd.MultiIndex\n",
    "            with the zero level being assets and the first level indicator.\n",
    "        Returns\n",
    "        -------\n",
    "        df : pd.DataFrame\n",
    "            A cleaned pd.DataFrame.\n",
    "\n",
    "        \"\"\"\n",
    "        df = pdr.get_data_yahoo(self.tickers, self.start, self.end)\n",
    "        df = df.drop(['High', 'Low', 'Open', 'Volume'], axis=1, level=0) # drops the columns we don't need\n",
    "        df.index.name = None # removes the date index\n",
    "        df = df.swaplevel(0, 1, axis=1) # swaps the multiindex\n",
    "        df.columns.rename(names = ['Asset', 'Channel'], inplace = True)\n",
    "\n",
    "        #_list = df.columns.levels[0].tolist()\n",
    "        #new_list = [_list[i][:-5] for i in range(len(_list))]\n",
    "        #df.columns.set_levels(new_list , level=0, inplace=True)\n",
    "        df.replace(0, np.nan, inplace=True)\n",
    "        #df = df.droplevel(level=1, axis=1)\n",
    "        df.to_csv('/mnt/c/Users/Anton/Documents/Models/portfolio.csv')\n",
    "        print('Tickers read...')\n",
    "        print(f'You have {df.columns.levels[0].tolist()} in your portfolio')\n",
    "        return df.interpolate().dropna()\n",
    "    \n",
    "    def TrainModel(self, stock, split_ratio = 0.8, batch_size = 5, look_back = 40, epochs = 50, save_graph=True):\n",
    "        \"\"\" Univariate model \"\"\"\n",
    "        \n",
    "        # Load the data from the pd.DataFrame\n",
    "        data = self._data[stock].filter(['Adj Close'])\n",
    "        dataset = data.values\n",
    "        training_data_len = math.ceil(len(dataset) * split_ratio)\n",
    "        scaler = MinMaxScaler(feature_range=(0, 1))\n",
    "        scaled_data = scaler.fit_transform(dataset)\n",
    "        X, y = self.processData(scaled_data, look_back)\n",
    "        \n",
    "        # Divide the data into training and testing data. Default split ratio is 0.8\n",
    "        X_train, X_test = X[:int(X.shape[0] * split_ratio)], X[int(X.shape[0] * split_ratio):]\n",
    "        y_train, y_test = y[:int(y.shape[0] * split_ratio)], y[int(y.shape[0] * split_ratio):]\n",
    "        pd.DataFrame(X_train).to_csv(f'/mnt/c/Users/Anton/Documents/Models/Train Data/{stock}-X_train.csv', index=False)\n",
    "        pd.DataFrame(X_test).to_csv(f'/mnt/c/Users/Anton/Documents/Models/Test Data/{stock}-X_test.csv', index=False)\n",
    "        pd.DataFrame(y_train).to_csv(f'/mnt/c/Users/Anton/Documents/Models/Train Data/{stock}-y_train.csv', index=False)\n",
    "        pd.DataFrame(y_test).to_csv(f'/mnt/c/Users/Anton/Documents/Models/Test Data/{stock}-y_test.csv', index=False)\n",
    "        \n",
    "        #Reshape data for (Sample,Timestep,Features) Has to be done because the models are very sensitive to input-shape\n",
    "        X_train = X_train.reshape((X_train.shape[0], X_train.shape[1] ,1))\n",
    "        X_test = X_test.reshape((X_test.shape[0], X_test.shape[1], 1))\n",
    "        \n",
    "        # Create the model\n",
    "        callback = EarlyStopping(monitor='loss', patience=3)\n",
    "        model = self.model(look_back = look_back)\n",
    "        history = model.fit(X_train, y_train, epochs=epochs, \n",
    "                            validation_data = (X_test,y_test), \n",
    "                            shuffle=True, batch_size = batch_size, callbacks = [callback])\n",
    "        \n",
    "        # ** Saving model-data **\n",
    "        model.save(f'/mnt/c/Users/Anton/Documents/Models/{stock}')\n",
    "        \n",
    "        if save_graph == True:\n",
    "            fig = plt.figure()\n",
    "            plt.title(f'Loss of {stock}')\n",
    "            plt.xlabel('Epochs', fontsize=14)\n",
    "            plt.ylabel('Loss', fontsize=14)\n",
    "            plt.plot(history.history['loss'])\n",
    "            plt.plot(history.history['val_loss'])\n",
    "            plt.legend(['loss', 'val_loss'], loc='upper right')\n",
    "            plt.savefig(f'/mnt/c/Users/Anton/Documents/Models/{stock}/{stock}-loss.png')\n",
    "            plt.close(fig)\n",
    "        return model, X_test, y_test, scaler\n",
    "    \n",
    "        #           ** Creating the LSTM network that is used for training. **\n",
    "    \n",
    "    def model(self, look_back):\n",
    "        _model = Sequential()\n",
    "        \"\"\" The models architecture is designed by reading previous studies and expriments.\n",
    "        It has a two LSTM layers and two density layers. \n",
    "        \n",
    "        LAYER 1 : LSTM: 52 neurons\n",
    "        LAYER 2 : LSTM: 52 neurons\n",
    "        LAYER 3 : DENSE : 25 neurons\n",
    "        LAYER 4 ( OUTPUT ) : 1 neuron\n",
    "        \n",
    "        Optimizer for gradient decsent is adam.\n",
    "        Loss is measured with Mean Squared Error.\n",
    "        \"\"\"\n",
    "        _model.add(LSTM(52, return_sequences=True, input_shape=(look_back , 1))) # return_sequence has to be true when using multiple LSTM layers\n",
    "        _model.add(LSTM(52, input_shape=(look_back , 1)))\n",
    "        _model.add(Dense(25))\n",
    "        _model.add(Dense(1))\n",
    "        _model.compile(optimizer='adam', loss='mse')\n",
    "        return _model\n",
    "\n",
    "    def processData(self, data, look_back):\n",
    "        X , Y = [] , []\n",
    "        for i in range(len(data) - look_back - 1):\n",
    "            X.append(data[i:(i + look_back),0])\n",
    "            Y.append(data[(i + look_back),0])\n",
    "        return array(X) , array(Y)\n",
    "    \n",
    "    @staticmethod\n",
    "    def plotter(stock, model, x_test, y_test, scaler):\n",
    "        Xt = model.predict(x_test)\n",
    "        fig = plt.figure(figsize=(16,8))\n",
    "        plt.title(f'LSTM model for {stock}')\n",
    "        plt.xlabel('Date', fontsize=18)\n",
    "        plt.ylabel('Adj Close Price SEK', fontsize=18)\n",
    "        plt.plot(scaler.inverse_transform(y_test.reshape(-1,1)))\n",
    "        plt.plot(scaler.inverse_transform(Xt))\n",
    "        plt.legend(['Val', 'Predictions'], loc='lower right')\n",
    "        plt.savefig(f'/mnt/c/Users/Anton/Documents/Models/{stock}/{stock}-model_graph.png')\n",
    "        plt.close(fig)\n",
    "    \n",
    "    @staticmethod\n",
    "    def pred_act(x_test, scaler, y_test, model):\n",
    "        act = []\n",
    "        pred = []\n",
    "        for i in range(294):\n",
    "            #i=293\n",
    "            Xt = model.predict(x_test[i].reshape(1,40,1))\n",
    "            pred.append(scaler.inverse_transform(Xt))\n",
    "            act.append(scaler.inverse_transform(y_test[i].reshape(-1,1)))\n",
    "        pred = np.array(pred).flatten()\n",
    "        act = np.array(act).flatten()\n",
    "        df_pred = pd.DataFrame(columns = tickers)\n",
    "        df_act = pd.DataFrame(columns = tickers)\n",
    "        df_pred[stock] = pred\n",
    "        df_act[stock] = act\n",
    "        df_pred.to_csv(f'/mnt/c/Users/Anton/Documents/Models/{stock}/{stock}-pred.csv', index=False)\n",
    "        df_act.to_csv(f'/mnt/c/Users/Anton/Documents/Models/{stock}/{stock}-actual.csv', index=False)\n",
    "        return act, pred"
   ]
  },
  {
   "cell_type": "code",
   "execution_count": 304,
   "metadata": {},
   "outputs": [
    {
     "name": "stdout",
     "output_type": "stream",
     "text": [
      "Tickers read...\n",
      "You have ['SKA-B.ST', 'EKTA-B.ST', 'GETI-B.ST', 'ERIC-B.ST', 'TEL2-B.ST', 'HM-B.ST'] in your portfolio\n"
     ]
    }
   ],
   "source": [
    "portfolio = Portfolio(tickers, start = '2013-10-01', end = '2020-10-01')"
   ]
  },
  {
   "cell_type": "code",
   "execution_count": 305,
   "metadata": {},
   "outputs": [
    {
     "name": "stdout",
     "output_type": "stream",
     "text": [
      "Epoch 1/50\n",
      "275/275 [==============================] - 8s 27ms/step - loss: 0.0018 - val_loss: 0.0033\n",
      "Epoch 2/50\n",
      "275/275 [==============================] - 7s 24ms/step - loss: 9.3786e-04 - val_loss: 0.0039\n",
      "Epoch 3/50\n",
      "275/275 [==============================] - 7s 25ms/step - loss: 6.9316e-04 - val_loss: 0.0025\n",
      "Epoch 4/50\n",
      "275/275 [==============================] - 7s 25ms/step - loss: 6.2064e-04 - val_loss: 0.0016\n",
      "Epoch 5/50\n",
      "275/275 [==============================] - 7s 25ms/step - loss: 5.4043e-04 - val_loss: 0.0013\n",
      "Epoch 6/50\n",
      "275/275 [==============================] - 7s 24ms/step - loss: 4.7188e-04 - val_loss: 0.0012\n",
      "Epoch 7/50\n",
      "275/275 [==============================] - 7s 24ms/step - loss: 4.8699e-04 - val_loss: 0.0014\n",
      "Epoch 8/50\n",
      "275/275 [==============================] - 7s 25ms/step - loss: 3.7723e-04 - val_loss: 8.4694e-04\n",
      "Epoch 9/50\n",
      "275/275 [==============================] - 7s 25ms/step - loss: 3.6925e-04 - val_loss: 0.0012\n",
      "Epoch 10/50\n",
      "275/275 [==============================] - 7s 25ms/step - loss: 3.0187e-04 - val_loss: 7.7443e-04\n",
      "Epoch 11/50\n",
      "275/275 [==============================] - 7s 25ms/step - loss: 2.7186e-04 - val_loss: 7.4171e-04\n",
      "Epoch 12/50\n",
      "275/275 [==============================] - 7s 24ms/step - loss: 3.2268e-04 - val_loss: 7.3508e-04\n",
      "Epoch 13/50\n",
      "275/275 [==============================] - 7s 24ms/step - loss: 2.9433e-04 - val_loss: 6.8587e-04\n",
      "Epoch 14/50\n",
      "275/275 [==============================] - 7s 25ms/step - loss: 2.8191e-04 - val_loss: 6.6141e-04\n",
      "INFO:tensorflow:Assets written to: /mnt/c/Users/Anton/Documents/Models/SKA-B.ST/assets\n",
      "Epoch 1/50\n",
      "275/275 [==============================] - 10s 35ms/step - loss: 0.0028 - val_loss: 0.0058\n",
      "Epoch 2/50\n",
      "275/275 [==============================] - 8s 29ms/step - loss: 0.0012 - val_loss: 0.0031\n",
      "Epoch 3/50\n",
      "275/275 [==============================] - 8s 29ms/step - loss: 0.0010 - val_loss: 0.0037\n",
      "Epoch 4/50\n",
      "275/275 [==============================] - 8s 28ms/step - loss: 8.1207e-04 - val_loss: 0.0017\n",
      "Epoch 5/50\n",
      "275/275 [==============================] - 7s 26ms/step - loss: 6.6704e-04 - val_loss: 0.0014\n",
      "Epoch 6/50\n",
      "275/275 [==============================] - 7s 27ms/step - loss: 6.5178e-04 - val_loss: 0.0013\n",
      "Epoch 7/50\n",
      "275/275 [==============================] - 7s 27ms/step - loss: 5.3898e-04 - val_loss: 0.0012\n",
      "Epoch 8/50\n",
      "275/275 [==============================] - 7s 26ms/step - loss: 4.6598e-04 - val_loss: 0.0012\n",
      "Epoch 9/50\n",
      "275/275 [==============================] - 7s 26ms/step - loss: 4.6264e-04 - val_loss: 0.0012\n",
      "Epoch 10/50\n",
      "275/275 [==============================] - 7s 25ms/step - loss: 4.9310e-04 - val_loss: 0.0013\n",
      "Epoch 11/50\n",
      "275/275 [==============================] - 7s 25ms/step - loss: 5.1214e-04 - val_loss: 0.0012\n",
      "Epoch 12/50\n",
      "275/275 [==============================] - 7s 26ms/step - loss: 4.0919e-04 - val_loss: 0.0012\n",
      "Epoch 13/50\n",
      "275/275 [==============================] - 7s 27ms/step - loss: 4.1809e-04 - val_loss: 0.0012\n",
      "Epoch 14/50\n",
      "275/275 [==============================] - 7s 27ms/step - loss: 4.7701e-04 - val_loss: 0.0013\n",
      "Epoch 15/50\n",
      "275/275 [==============================] - 7s 26ms/step - loss: 3.8519e-04 - val_loss: 0.0012\n",
      "Epoch 16/50\n",
      "275/275 [==============================] - 7s 26ms/step - loss: 4.2742e-04 - val_loss: 0.0017\n",
      "Epoch 17/50\n",
      "275/275 [==============================] - 7s 26ms/step - loss: 4.1189e-04 - val_loss: 0.0020\n",
      "Epoch 18/50\n",
      "275/275 [==============================] - 7s 26ms/step - loss: 3.8857e-04 - val_loss: 0.0014\n",
      "INFO:tensorflow:Assets written to: /mnt/c/Users/Anton/Documents/Models/EKTA-B.ST/assets\n",
      "Epoch 1/50\n",
      "275/275 [==============================] - 8s 30ms/step - loss: 0.0051 - val_loss: 0.0025\n",
      "Epoch 2/50\n",
      "275/275 [==============================] - 9s 32ms/step - loss: 0.0013 - val_loss: 0.0044\n",
      "Epoch 3/50\n",
      "275/275 [==============================] - 8s 28ms/step - loss: 0.0011 - val_loss: 0.0028\n",
      "Epoch 4/50\n",
      "275/275 [==============================] - 8s 27ms/step - loss: 9.0557e-04 - val_loss: 0.0016\n",
      "Epoch 5/50\n",
      "275/275 [==============================] - 8s 28ms/step - loss: 7.0457e-04 - val_loss: 0.0016\n",
      "Epoch 6/50\n",
      "275/275 [==============================] - 7s 27ms/step - loss: 6.6411e-04 - val_loss: 0.0015\n",
      "Epoch 7/50\n",
      "275/275 [==============================] - 7s 26ms/step - loss: 6.1096e-04 - val_loss: 0.0012\n",
      "Epoch 8/50\n",
      "275/275 [==============================] - 7s 25ms/step - loss: 5.7832e-04 - val_loss: 0.0016\n",
      "Epoch 9/50\n",
      "275/275 [==============================] - 8s 27ms/step - loss: 6.1342e-04 - val_loss: 0.0012\n",
      "Epoch 10/50\n",
      "275/275 [==============================] - 7s 26ms/step - loss: 5.8724e-04 - val_loss: 9.3653e-04\n",
      "Epoch 11/50\n",
      "275/275 [==============================] - 7s 26ms/step - loss: 5.2465e-04 - val_loss: 9.8365e-04\n",
      "Epoch 12/50\n",
      "275/275 [==============================] - 7s 26ms/step - loss: 5.1100e-04 - val_loss: 0.0014\n",
      "Epoch 13/50\n",
      "275/275 [==============================] - 7s 25ms/step - loss: 4.9335e-04 - val_loss: 9.4255e-04\n",
      "Epoch 14/50\n",
      "275/275 [==============================] - 8s 29ms/step - loss: 4.5666e-04 - val_loss: 8.2874e-04\n",
      "Epoch 15/50\n",
      "275/275 [==============================] - 8s 28ms/step - loss: 4.2140e-04 - val_loss: 0.0010\n",
      "Epoch 16/50\n",
      "275/275 [==============================] - 9s 33ms/step - loss: 4.5728e-04 - val_loss: 9.8850e-04\n",
      "Epoch 17/50\n",
      "275/275 [==============================] - 10s 36ms/step - loss: 4.4245e-04 - val_loss: 8.4596e-04\n",
      "Epoch 18/50\n",
      "275/275 [==============================] - 9s 32ms/step - loss: 4.2183e-04 - val_loss: 8.4633e-04\n",
      "INFO:tensorflow:Assets written to: /mnt/c/Users/Anton/Documents/Models/GETI-B.ST/assets\n",
      "Epoch 1/50\n",
      "275/275 [==============================] - 8s 29ms/step - loss: 0.0057 - val_loss: 0.0034\n",
      "Epoch 2/50\n",
      "275/275 [==============================] - 7s 27ms/step - loss: 0.0017 - val_loss: 0.0058\n",
      "Epoch 3/50\n",
      "275/275 [==============================] - 8s 28ms/step - loss: 0.0013 - val_loss: 0.0025\n",
      "Epoch 4/50\n",
      "275/275 [==============================] - 8s 28ms/step - loss: 0.0011 - val_loss: 0.0016\n",
      "Epoch 5/50\n",
      "275/275 [==============================] - 8s 29ms/step - loss: 9.2067e-04 - val_loss: 0.0015\n",
      "Epoch 6/50\n",
      "275/275 [==============================] - 7s 27ms/step - loss: 7.9414e-04 - val_loss: 0.0028\n",
      "Epoch 7/50\n",
      "275/275 [==============================] - 7s 26ms/step - loss: 7.0193e-04 - val_loss: 0.0024\n",
      "Epoch 8/50\n",
      "275/275 [==============================] - 7s 27ms/step - loss: 7.1975e-04 - val_loss: 0.0015\n",
      "Epoch 9/50\n",
      "275/275 [==============================] - 8s 29ms/step - loss: 6.6426e-04 - val_loss: 0.0017\n",
      "Epoch 10/50\n",
      "275/275 [==============================] - 7s 27ms/step - loss: 6.4111e-04 - val_loss: 0.0011\n",
      "Epoch 11/50\n",
      "275/275 [==============================] - 7s 27ms/step - loss: 5.7573e-04 - val_loss: 0.0017\n",
      "Epoch 12/50\n",
      "275/275 [==============================] - 7s 26ms/step - loss: 5.3531e-04 - val_loss: 0.0018\n",
      "Epoch 13/50\n",
      "275/275 [==============================] - 7s 27ms/step - loss: 5.6650e-04 - val_loss: 9.3250e-04\n",
      "Epoch 14/50\n",
      "275/275 [==============================] - 7s 26ms/step - loss: 5.1804e-04 - val_loss: 9.3375e-04\n",
      "Epoch 15/50\n",
      "275/275 [==============================] - 7s 26ms/step - loss: 5.5759e-04 - val_loss: 9.2727e-04\n",
      "Epoch 16/50\n",
      "275/275 [==============================] - 7s 26ms/step - loss: 6.6714e-04 - val_loss: 9.4876e-04\n",
      "Epoch 17/50\n",
      "275/275 [==============================] - 7s 26ms/step - loss: 5.3791e-04 - val_loss: 9.1310e-04\n",
      "INFO:tensorflow:Assets written to: /mnt/c/Users/Anton/Documents/Models/ERIC-B.ST/assets\n",
      "Epoch 1/50\n",
      "275/275 [==============================] - 8s 28ms/step - loss: 0.0022 - val_loss: 0.0040\n",
      "Epoch 2/50\n",
      "275/275 [==============================] - 8s 28ms/step - loss: 5.6583e-04 - val_loss: 0.0025\n",
      "Epoch 3/50\n",
      "275/275 [==============================] - 8s 28ms/step - loss: 4.8780e-04 - val_loss: 0.0022\n",
      "Epoch 4/50\n",
      "275/275 [==============================] - 7s 26ms/step - loss: 4.0940e-04 - val_loss: 0.0015\n",
      "Epoch 5/50\n",
      "275/275 [==============================] - 7s 26ms/step - loss: 4.1855e-04 - val_loss: 0.0018\n",
      "Epoch 6/50\n",
      "275/275 [==============================] - 7s 26ms/step - loss: 3.3062e-04 - val_loss: 0.0011\n",
      "Epoch 7/50\n",
      "275/275 [==============================] - 7s 25ms/step - loss: 3.3786e-04 - val_loss: 9.3202e-04\n",
      "Epoch 8/50\n",
      "275/275 [==============================] - 7s 25ms/step - loss: 2.8845e-04 - val_loss: 0.0011\n",
      "Epoch 9/50\n",
      "275/275 [==============================] - 7s 25ms/step - loss: 2.4722e-04 - val_loss: 0.0019\n",
      "Epoch 10/50\n",
      "275/275 [==============================] - 7s 25ms/step - loss: 2.6036e-04 - val_loss: 5.2858e-04\n",
      "Epoch 11/50\n",
      "275/275 [==============================] - 7s 25ms/step - loss: 2.1735e-04 - val_loss: 4.5902e-04\n",
      "Epoch 12/50\n",
      "275/275 [==============================] - 8s 29ms/step - loss: 2.1232e-04 - val_loss: 5.6423e-04\n",
      "Epoch 13/50\n",
      "275/275 [==============================] - 8s 30ms/step - loss: 2.5864e-04 - val_loss: 4.3635e-04\n",
      "Epoch 14/50\n",
      "275/275 [==============================] - 9s 31ms/step - loss: 1.7878e-04 - val_loss: 0.0016\n",
      "Epoch 15/50\n",
      "275/275 [==============================] - 8s 28ms/step - loss: 2.6403e-04 - val_loss: 5.1601e-04\n",
      "Epoch 16/50\n",
      "275/275 [==============================] - 8s 28ms/step - loss: 1.6488e-04 - val_loss: 7.5435e-04\n",
      "Epoch 17/50\n",
      "275/275 [==============================] - 9s 32ms/step - loss: 1.7594e-04 - val_loss: 4.3220e-04\n",
      "Epoch 18/50\n",
      "275/275 [==============================] - 8s 28ms/step - loss: 1.7323e-04 - val_loss: 8.2670e-04\n",
      "Epoch 19/50\n",
      "275/275 [==============================] - 9s 33ms/step - loss: 1.7044e-04 - val_loss: 7.6830e-04\n",
      "INFO:tensorflow:Assets written to: /mnt/c/Users/Anton/Documents/Models/TEL2-B.ST/assets\n",
      "Epoch 1/50\n",
      "275/275 [==============================] - 8s 30ms/step - loss: 0.0063 - val_loss: 0.0029\n",
      "Epoch 2/50\n",
      "275/275 [==============================] - 7s 26ms/step - loss: 0.0014 - val_loss: 0.0021\n",
      "Epoch 3/50\n",
      "275/275 [==============================] - 7s 25ms/step - loss: 0.0011 - val_loss: 0.0017\n",
      "Epoch 4/50\n",
      "275/275 [==============================] - 7s 25ms/step - loss: 8.9597e-04 - val_loss: 0.0016\n",
      "Epoch 5/50\n",
      "275/275 [==============================] - 8s 29ms/step - loss: 9.1881e-04 - val_loss: 0.0021\n",
      "Epoch 6/50\n",
      "275/275 [==============================] - 8s 30ms/step - loss: 8.0175e-04 - val_loss: 0.0013\n",
      "Epoch 7/50\n",
      "275/275 [==============================] - 8s 28ms/step - loss: 5.9578e-04 - val_loss: 0.0011\n",
      "Epoch 8/50\n",
      "275/275 [==============================] - 8s 27ms/step - loss: 6.2568e-04 - val_loss: 9.5404e-04\n",
      "Epoch 9/50\n",
      "275/275 [==============================] - 8s 27ms/step - loss: 5.8060e-04 - val_loss: 8.9010e-04\n",
      "Epoch 10/50\n",
      "275/275 [==============================] - 7s 26ms/step - loss: 5.1552e-04 - val_loss: 8.0673e-04\n",
      "Epoch 11/50\n",
      "275/275 [==============================] - 7s 26ms/step - loss: 5.9435e-04 - val_loss: 9.4311e-04\n",
      "Epoch 12/50\n",
      "275/275 [==============================] - 7s 26ms/step - loss: 4.8592e-04 - val_loss: 8.0744e-04\n",
      "Epoch 13/50\n",
      "275/275 [==============================] - 8s 28ms/step - loss: 3.9887e-04 - val_loss: 6.7193e-04\n",
      "Epoch 14/50\n",
      "275/275 [==============================] - 8s 27ms/step - loss: 4.3029e-04 - val_loss: 6.6171e-04\n",
      "Epoch 15/50\n",
      "275/275 [==============================] - 8s 29ms/step - loss: 3.9004e-04 - val_loss: 6.6326e-04\n",
      "Epoch 16/50\n",
      "275/275 [==============================] - 10s 35ms/step - loss: 4.4947e-04 - val_loss: 7.3528e-04\n",
      "Epoch 17/50\n",
      "275/275 [==============================] - 8s 30ms/step - loss: 4.3551e-04 - val_loss: 6.1346e-04\n",
      "Epoch 18/50\n",
      "275/275 [==============================] - 8s 29ms/step - loss: 3.9355e-04 - val_loss: 6.0655e-04\n",
      "INFO:tensorflow:Assets written to: /mnt/c/Users/Anton/Documents/Models/HM-B.ST/assets\n"
     ]
    }
   ],
   "source": [
    "for stock in tickers:\n",
    "    model, x_test, y_test, scaler = portfolio.TrainModel(stock)\n",
    "    portfolio.plotter(stock, model, x_test, y_test, scaler)\n",
    "    act, prediction = portfolio.pred_act(x_test, scaler, y_test, model)\n",
    "    rmse = np.sqrt(np.mean(((prediction - act)**2)))\n",
    "    with open (f'/mnt/c/Users/Anton/Documents/Models/{stock}/{stock}-rmse.txt','w') as f:\n",
    "               f.write(str(rmse)+'\\n')"
   ]
  },
  {
   "cell_type": "markdown",
   "metadata": {},
   "source": [
    "## 3."
   ]
  },
  {
   "cell_type": "code",
   "execution_count": 354,
   "metadata": {},
   "outputs": [],
   "source": [
    "def concat_df(type_ = ''):\n",
    "    df = pd.DataFrame(columns = tickers)\n",
    "    for stock in tickers:\n",
    "        df[stock] = pd.read_csv(f'/mnt/c/Users/Anton/Documents/Models/{stock}/{stock}-{type_}.csv')[stock]\n",
    "    return df"
   ]
  },
  {
   "cell_type": "code",
   "execution_count": 379,
   "metadata": {},
   "outputs": [],
   "source": [
    "actual = concat_df(type_ = 'actual')"
   ]
  },
  {
   "cell_type": "code",
   "execution_count": 381,
   "metadata": {},
   "outputs": [],
   "source": [
    "predicted = concat_df(type_='pred')"
   ]
  },
  {
   "cell_type": "code",
   "execution_count": 575,
   "metadata": {},
   "outputs": [],
   "source": [
    "def calc_return():\n",
    "    returns = [] \n",
    "    \n",
    "    for stock in tickers:\n",
    "        returns.append((predicted[stock].iloc[-1] - actual[stock].iloc[-2]) / actual[stock].iloc[-2]) \n",
    "        \n",
    "    df = pd.DataFrame([returns], columns = tickers)\n",
    "    return df.T"
   ]
  },
  {
   "cell_type": "code",
   "execution_count": 576,
   "metadata": {},
   "outputs": [],
   "source": [
    "mean = calc_return()"
   ]
  },
  {
   "cell_type": "code",
   "execution_count": 577,
   "metadata": {},
   "outputs": [
    {
     "data": {
      "text/html": [
       "<div>\n",
       "<style scoped>\n",
       "    .dataframe tbody tr th:only-of-type {\n",
       "        vertical-align: middle;\n",
       "    }\n",
       "\n",
       "    .dataframe tbody tr th {\n",
       "        vertical-align: top;\n",
       "    }\n",
       "\n",
       "    .dataframe thead th {\n",
       "        text-align: right;\n",
       "    }\n",
       "</style>\n",
       "<table border=\"1\" class=\"dataframe\">\n",
       "  <thead>\n",
       "    <tr style=\"text-align: right;\">\n",
       "      <th></th>\n",
       "      <th>0</th>\n",
       "    </tr>\n",
       "  </thead>\n",
       "  <tbody>\n",
       "    <tr>\n",
       "      <th>SKA-B.ST</th>\n",
       "      <td>0.003109</td>\n",
       "    </tr>\n",
       "    <tr>\n",
       "      <th>EKTA-B.ST</th>\n",
       "      <td>0.016434</td>\n",
       "    </tr>\n",
       "    <tr>\n",
       "      <th>GETI-B.ST</th>\n",
       "      <td>-0.005667</td>\n",
       "    </tr>\n",
       "    <tr>\n",
       "      <th>ERIC-B.ST</th>\n",
       "      <td>-0.000773</td>\n",
       "    </tr>\n",
       "    <tr>\n",
       "      <th>TEL2-B.ST</th>\n",
       "      <td>0.017092</td>\n",
       "    </tr>\n",
       "    <tr>\n",
       "      <th>HM-B.ST</th>\n",
       "      <td>0.006105</td>\n",
       "    </tr>\n",
       "  </tbody>\n",
       "</table>\n",
       "</div>"
      ],
      "text/plain": [
       "                  0\n",
       "SKA-B.ST   0.003109\n",
       "EKTA-B.ST  0.016434\n",
       "GETI-B.ST -0.005667\n",
       "ERIC-B.ST -0.000773\n",
       "TEL2-B.ST  0.017092\n",
       "HM-B.ST    0.006105"
      ]
     },
     "execution_count": 577,
     "metadata": {},
     "output_type": "execute_result"
    }
   ],
   "source": [
    "mean"
   ]
  },
  {
   "cell_type": "code",
   "execution_count": null,
   "metadata": {},
   "outputs": [],
   "source": [
    "def calc_cov(X1, X2):\n",
    "    for t in range(len(y_test)):\n",
    "        (actual.pct_change() - A) * (acti)"
   ]
  },
  {
   "cell_type": "code",
   "execution_count": 472,
   "metadata": {},
   "outputs": [
    {
     "ename": "TypeError",
     "evalue": "cov() got an unexpected keyword argument 'bias'",
     "output_type": "error",
     "traceback": [
      "\u001b[0;31m---------------------------------------------------------------------------\u001b[0m",
      "\u001b[0;31mTypeError\u001b[0m                                 Traceback (most recent call last)",
      "\u001b[0;32m<ipython-input-472-70857b388cce>\u001b[0m in \u001b[0;36m<module>\u001b[0;34m\u001b[0m\n\u001b[0;32m----> 1\u001b[0;31m \u001b[0mcov_matrix\u001b[0m \u001b[0;34m=\u001b[0m \u001b[0mactual\u001b[0m\u001b[0;34m.\u001b[0m\u001b[0mpct_change\u001b[0m\u001b[0;34m(\u001b[0m\u001b[0;34m)\u001b[0m\u001b[0;34m.\u001b[0m\u001b[0mcov\u001b[0m\u001b[0;34m(\u001b[0m\u001b[0mbias\u001b[0m\u001b[0;34m=\u001b[0m\u001b[0;32mFalse\u001b[0m\u001b[0;34m)\u001b[0m\u001b[0;34m\u001b[0m\u001b[0;34m\u001b[0m\u001b[0m\n\u001b[0m",
      "\u001b[0;31mTypeError\u001b[0m: cov() got an unexpected keyword argument 'bias'"
     ]
    }
   ],
   "source": [
    "cov_matrix = actual.pct_change().cov()"
   ]
  },
  {
   "cell_type": "code",
   "execution_count": 553,
   "metadata": {},
   "outputs": [],
   "source": [
    "A = actual['SKA-B.ST'].pct_change().dropna() - mean['SKA-B.ST'].values\n",
    "B = actual['EKTA-B.ST'].pct_change().dropna() - mean['EKTA-B.ST'].values\n",
    "C = actual['GETI-B.ST'].pct_change().dropna() - mean['GETI-B.ST'].values\n",
    "D = actual['ERIC-B.ST'].pct_change().dropna() - mean['ERIC-B.ST'].values\n",
    "E = actual['TEL2-B.ST'].pct_change().dropna() - mean['TEL2-B.ST'].values\n",
    "F = actual['HM-B.ST'].pct_change().dropna() - mean['HM-B.ST'].values"
   ]
  },
  {
   "cell_type": "code",
   "execution_count": 554,
   "metadata": {},
   "outputs": [
    {
     "data": {
      "text/plain": [
       "1     -0.003726\n",
       "2     -0.008356\n",
       "3     -0.011796\n",
       "4      0.004716\n",
       "5     -0.005283\n",
       "         ...   \n",
       "289   -0.012003\n",
       "290   -0.015929\n",
       "291    0.000527\n",
       "292    0.000514\n",
       "293   -0.000530\n",
       "Name: SKA-B.ST, Length: 293, dtype: float64"
      ]
     },
     "execution_count": 554,
     "metadata": {},
     "output_type": "execute_result"
    }
   ],
   "source": [
    "A"
   ]
  },
  {
   "cell_type": "code",
   "execution_count": 739,
   "metadata": {},
   "outputs": [],
   "source": [
    "data = np.array([A, B, C, D, E, F])\n",
    "\n",
    "\n",
    "daily_cov = np.cov(data, bias = False)"
   ]
  },
  {
   "cell_type": "code",
   "execution_count": 627,
   "metadata": {},
   "outputs": [
    {
     "data": {
      "text/html": [
       "<div>\n",
       "<style scoped>\n",
       "    .dataframe tbody tr th:only-of-type {\n",
       "        vertical-align: middle;\n",
       "    }\n",
       "\n",
       "    .dataframe tbody tr th {\n",
       "        vertical-align: top;\n",
       "    }\n",
       "\n",
       "    .dataframe thead th {\n",
       "        text-align: right;\n",
       "    }\n",
       "</style>\n",
       "<table border=\"1\" class=\"dataframe\">\n",
       "  <thead>\n",
       "    <tr style=\"text-align: right;\">\n",
       "      <th></th>\n",
       "      <th>0</th>\n",
       "      <th>1</th>\n",
       "      <th>2</th>\n",
       "      <th>3</th>\n",
       "      <th>4</th>\n",
       "      <th>5</th>\n",
       "    </tr>\n",
       "  </thead>\n",
       "  <tbody>\n",
       "    <tr>\n",
       "      <th>0</th>\n",
       "      <td>0.000449</td>\n",
       "      <td>0.000247</td>\n",
       "      <td>0.000096</td>\n",
       "      <td>0.000220</td>\n",
       "      <td>0.000156</td>\n",
       "      <td>0.000354</td>\n",
       "    </tr>\n",
       "    <tr>\n",
       "      <th>1</th>\n",
       "      <td>0.000247</td>\n",
       "      <td>0.000876</td>\n",
       "      <td>0.000184</td>\n",
       "      <td>0.000215</td>\n",
       "      <td>0.000113</td>\n",
       "      <td>0.000348</td>\n",
       "    </tr>\n",
       "    <tr>\n",
       "      <th>2</th>\n",
       "      <td>0.000096</td>\n",
       "      <td>0.000184</td>\n",
       "      <td>0.000625</td>\n",
       "      <td>0.000198</td>\n",
       "      <td>0.000143</td>\n",
       "      <td>0.000025</td>\n",
       "    </tr>\n",
       "    <tr>\n",
       "      <th>3</th>\n",
       "      <td>0.000220</td>\n",
       "      <td>0.000215</td>\n",
       "      <td>0.000198</td>\n",
       "      <td>0.000589</td>\n",
       "      <td>0.000184</td>\n",
       "      <td>0.000251</td>\n",
       "    </tr>\n",
       "    <tr>\n",
       "      <th>4</th>\n",
       "      <td>0.000156</td>\n",
       "      <td>0.000113</td>\n",
       "      <td>0.000143</td>\n",
       "      <td>0.000184</td>\n",
       "      <td>0.000317</td>\n",
       "      <td>0.000164</td>\n",
       "    </tr>\n",
       "    <tr>\n",
       "      <th>5</th>\n",
       "      <td>0.000354</td>\n",
       "      <td>0.000348</td>\n",
       "      <td>0.000025</td>\n",
       "      <td>0.000251</td>\n",
       "      <td>0.000164</td>\n",
       "      <td>0.000821</td>\n",
       "    </tr>\n",
       "  </tbody>\n",
       "</table>\n",
       "</div>"
      ],
      "text/plain": [
       "          0         1         2         3         4         5\n",
       "0  0.000449  0.000247  0.000096  0.000220  0.000156  0.000354\n",
       "1  0.000247  0.000876  0.000184  0.000215  0.000113  0.000348\n",
       "2  0.000096  0.000184  0.000625  0.000198  0.000143  0.000025\n",
       "3  0.000220  0.000215  0.000198  0.000589  0.000184  0.000251\n",
       "4  0.000156  0.000113  0.000143  0.000184  0.000317  0.000164\n",
       "5  0.000354  0.000348  0.000025  0.000251  0.000164  0.000821"
      ]
     },
     "execution_count": 627,
     "metadata": {},
     "output_type": "execute_result"
    }
   ],
   "source": [
    "pd.DataFrame(cov_matrix2)"
   ]
  },
  {
   "cell_type": "code",
   "execution_count": 544,
   "metadata": {},
   "outputs": [
    {
     "data": {
      "text/html": [
       "<div>\n",
       "<style scoped>\n",
       "    .dataframe tbody tr th:only-of-type {\n",
       "        vertical-align: middle;\n",
       "    }\n",
       "\n",
       "    .dataframe tbody tr th {\n",
       "        vertical-align: top;\n",
       "    }\n",
       "\n",
       "    .dataframe thead th {\n",
       "        text-align: right;\n",
       "    }\n",
       "</style>\n",
       "<table border=\"1\" class=\"dataframe\">\n",
       "  <thead>\n",
       "    <tr style=\"text-align: right;\">\n",
       "      <th></th>\n",
       "      <th>0</th>\n",
       "      <th>1</th>\n",
       "      <th>2</th>\n",
       "      <th>3</th>\n",
       "      <th>4</th>\n",
       "      <th>5</th>\n",
       "    </tr>\n",
       "  </thead>\n",
       "  <tbody>\n",
       "    <tr>\n",
       "      <th>0</th>\n",
       "      <td>0.000449</td>\n",
       "      <td>0.000247</td>\n",
       "      <td>0.000096</td>\n",
       "      <td>0.000220</td>\n",
       "      <td>0.000156</td>\n",
       "      <td>0.000354</td>\n",
       "    </tr>\n",
       "    <tr>\n",
       "      <th>1</th>\n",
       "      <td>0.000247</td>\n",
       "      <td>0.000876</td>\n",
       "      <td>0.000184</td>\n",
       "      <td>0.000215</td>\n",
       "      <td>0.000113</td>\n",
       "      <td>0.000348</td>\n",
       "    </tr>\n",
       "    <tr>\n",
       "      <th>2</th>\n",
       "      <td>0.000096</td>\n",
       "      <td>0.000184</td>\n",
       "      <td>0.000625</td>\n",
       "      <td>0.000198</td>\n",
       "      <td>0.000143</td>\n",
       "      <td>0.000025</td>\n",
       "    </tr>\n",
       "    <tr>\n",
       "      <th>3</th>\n",
       "      <td>0.000220</td>\n",
       "      <td>0.000215</td>\n",
       "      <td>0.000198</td>\n",
       "      <td>0.000589</td>\n",
       "      <td>0.000184</td>\n",
       "      <td>0.000251</td>\n",
       "    </tr>\n",
       "    <tr>\n",
       "      <th>4</th>\n",
       "      <td>0.000156</td>\n",
       "      <td>0.000113</td>\n",
       "      <td>0.000143</td>\n",
       "      <td>0.000184</td>\n",
       "      <td>0.000317</td>\n",
       "      <td>0.000164</td>\n",
       "    </tr>\n",
       "    <tr>\n",
       "      <th>5</th>\n",
       "      <td>0.000354</td>\n",
       "      <td>0.000348</td>\n",
       "      <td>0.000025</td>\n",
       "      <td>0.000251</td>\n",
       "      <td>0.000164</td>\n",
       "      <td>0.000821</td>\n",
       "    </tr>\n",
       "  </tbody>\n",
       "</table>\n",
       "</div>"
      ],
      "text/plain": [
       "          0         1         2         3         4         5\n",
       "0  0.000449  0.000247  0.000096  0.000220  0.000156  0.000354\n",
       "1  0.000247  0.000876  0.000184  0.000215  0.000113  0.000348\n",
       "2  0.000096  0.000184  0.000625  0.000198  0.000143  0.000025\n",
       "3  0.000220  0.000215  0.000198  0.000589  0.000184  0.000251\n",
       "4  0.000156  0.000113  0.000143  0.000184  0.000317  0.000164\n",
       "5  0.000354  0.000348  0.000025  0.000251  0.000164  0.000821"
      ]
     },
     "execution_count": 544,
     "metadata": {},
     "output_type": "execute_result"
    }
   ],
   "source": [
    "pd.DataFrame(cov_matrix2)"
   ]
  },
  {
   "cell_type": "code",
   "execution_count": 740,
   "metadata": {},
   "outputs": [],
   "source": [
    "cov_matrix2 = daily_cov * 252"
   ]
  },
  {
   "cell_type": "code",
   "execution_count": 741,
   "metadata": {},
   "outputs": [],
   "source": [
    "def portfolio_stats(weights):\n",
    "    ''' Return portfolio statistics.\n",
    "    \n",
    "    Parameters\n",
    "    ==========\n",
    "    weights : array-like\n",
    "        weights for different securities in portfolio\n",
    "    \n",
    "    Returns\n",
    "    =======\n",
    "    pret : float\n",
    "        expected portfolio return\n",
    "    pvol : float\n",
    "        volatility of portfolio return\n",
    "    pret / pvol : float\n",
    "        Sharpe ratio, assuming risk free-rate rf=0\n",
    "    '''\n",
    "    weights = np.array(weights)\n",
    "    pret = np.sum(mean.values * weights) * 252\n",
    "    pvol = np.sqrt(np.dot(weights.T, np.dot(cov_matrix2, weights)))\n",
    "    return np.array([pret, pvol, pret / pvol])"
   ]
  },
  {
   "cell_type": "code",
   "execution_count": 742,
   "metadata": {},
   "outputs": [
    {
     "data": {
      "text/plain": [
       "array([[ 0.00310889],\n",
       "       [ 0.0164336 ],\n",
       "       [-0.00566688],\n",
       "       [-0.00077286],\n",
       "       [ 0.01709163],\n",
       "       [ 0.0061053 ]])"
      ]
     },
     "execution_count": 742,
     "metadata": {},
     "output_type": "execute_result"
    }
   ],
   "source": [
    "mean.values"
   ]
  },
  {
   "cell_type": "code",
   "execution_count": 743,
   "metadata": {},
   "outputs": [],
   "source": [
    "def min_func_sharpe(weights):\n",
    "    return -portfolio_stats(weights)[2]"
   ]
  },
  {
   "cell_type": "code",
   "execution_count": 744,
   "metadata": {},
   "outputs": [],
   "source": [
    "cons = ({'type': 'eq', 'fun': lambda x:  np.sum(x) - 1}) # a tuple of dict"
   ]
  },
  {
   "cell_type": "code",
   "execution_count": 745,
   "metadata": {},
   "outputs": [
    {
     "data": {
      "text/plain": [
       "((0, 1), (0, 1), (0, 1), (0, 1), (0, 1), (0, 1))"
      ]
     },
     "execution_count": 745,
     "metadata": {},
     "output_type": "execute_result"
    }
   ],
   "source": [
    "# tuple comprehension, must use tuple(       )\n",
    "bnds = tuple((0, 1) for x in range(len(tickers)))\n",
    "#bnds = ((0, 1) for x in range(noa))  # does not give you directly tuples, but a generator\n",
    "bnds"
   ]
  },
  {
   "cell_type": "code",
   "execution_count": 746,
   "metadata": {},
   "outputs": [
    {
     "data": {
      "text/plain": [
       "array([0.16666667, 0.16666667, 0.16666667, 0.16666667, 0.16666667,\n",
       "       0.16666667])"
      ]
     },
     "execution_count": 746,
     "metadata": {},
     "output_type": "execute_result"
    }
   ],
   "source": [
    "initialGuess= np.ones(len(tickers))*(1./len(tickers))\n",
    "initialGuess"
   ]
  },
  {
   "cell_type": "code",
   "execution_count": 747,
   "metadata": {},
   "outputs": [
    {
     "data": {
      "text/plain": [
       "     fun: -38.56620562011751\n",
       "     jac: array([-6.47544861e-04,  5.24520874e-05,  7.79151917e-04,  2.84671783e-04,\n",
       "       -6.38961792e-05, -8.48770142e-05])\n",
       " message: 'Optimization terminated successfully'\n",
       "    nfev: 78\n",
       "     nit: 10\n",
       "    njev: 10\n",
       "  status: 0\n",
       " success: True\n",
       "       x: array([0.20291714, 0.07098703, 0.18398293, 0.05948996, 0.44014741,\n",
       "       0.04247554])"
      ]
     },
     "execution_count": 747,
     "metadata": {},
     "output_type": "execute_result"
    }
   ],
   "source": [
    "import scipy.optimize as sco\n",
    "# maximize Sharpe Ratio\n",
    "opts = sco.minimize(min_func_sharpe, initialGuess, method='SLSQP',\n",
    "                       bounds=bnds, constraints=cons)\n",
    "opts"
   ]
  },
  {
   "cell_type": "code",
   "execution_count": 748,
   "metadata": {},
   "outputs": [
    {
     "name": "stdout",
     "output_type": "stream",
     "text": [
      "Weights for portfolio with highest Sharpe Ratio [0.203 0.071 0.184 0.059 0.44  0.042]\n"
     ]
    }
   ],
   "source": [
    "print('Weights for portfolio with highest Sharpe Ratio', opts['x'].round(3)) "
   ]
  },
  {
   "cell_type": "code",
   "execution_count": 749,
   "metadata": {},
   "outputs": [
    {
     "name": "stdout",
     "output_type": "stream",
     "text": [
      "The return, volatility and Sharpe-Ratio are: [ 9.148  0.258 35.52 ]\n"
     ]
    }
   ],
   "source": [
    "print('The return, volatility and Sharpe-Ratio are:', portfolio_stats(optv['x']).round(3))"
   ]
  },
  {
   "cell_type": "code",
   "execution_count": 750,
   "metadata": {},
   "outputs": [],
   "source": [
    "# objective function if you want to minimize variance\n",
    "def min_func_variance(weights):\n",
    "    return portfolio_stats(weights)[1] ** 2"
   ]
  },
  {
   "cell_type": "code",
   "execution_count": 751,
   "metadata": {},
   "outputs": [
    {
     "data": {
      "text/plain": [
       "     fun: 0.05625975015437115\n",
       "     jac: array([0.11276854, 0.11285028, 0.1128135 , 0.1122539 , 0.11230523,\n",
       "       0.11206436])\n",
       " message: 'Optimization terminated successfully'\n",
       "    nfev: 71\n",
       "     nit: 10\n",
       "    njev: 10\n",
       "  status: 0\n",
       " success: True\n",
       "       x: array([0.20484596, 0.07129874, 0.1846186 , 0.05932718, 0.43940442,\n",
       "       0.0405051 ])"
      ]
     },
     "execution_count": 751,
     "metadata": {},
     "output_type": "execute_result"
    }
   ],
   "source": [
    "optv = sco.minimize(min_func_variance, initialGuess, method='SLSQP',\n",
    "                       bounds=bnds, constraints=cons)\n",
    "optv"
   ]
  },
  {
   "cell_type": "code",
   "execution_count": 752,
   "metadata": {},
   "outputs": [
    {
     "name": "stdout",
     "output_type": "stream",
     "text": [
      "Weights for portfolio with minimum  variance [0.205 0.071 0.185 0.059 0.439 0.041]\n"
     ]
    }
   ],
   "source": [
    "print('Weights for portfolio with minimum  variance',optv['x'].round(3))"
   ]
  },
  {
   "cell_type": "code",
   "execution_count": 753,
   "metadata": {},
   "outputs": [],
   "source": [
    "# portfolio volatility /standard deviation\n",
    "def min_func_port(weights):\n",
    "    return portfolio_stats(weights)[1]"
   ]
  },
  {
   "cell_type": "code",
   "execution_count": 754,
   "metadata": {},
   "outputs": [],
   "source": [
    "trets = np.linspace(0.001, 0.05, 100)  \n",
    "tvols = []\n",
    "for tret in trets:\n",
    "    #print('target return is', tret)\n",
    "    cons = ({'type': 'eq', 'fun': lambda x:  portfolio_stats(x)[0] - tret},\n",
    "            {'type': 'eq', 'fun': lambda x:  np.sum(x) - 1})\n",
    "    res = sco.minimize(min_func_port, initialGuess, method='SLSQP',\n",
    "                       bounds=bnds, constraints=cons)\n",
    "    #print('The minimum vol is', res['fun'])\n",
    "    tvols.append(res['fun']) #the value of the objective, i.e. standard deviation of portfolio returns\n",
    "tvols = np.array(tvols)"
   ]
  },
  {
   "cell_type": "code",
   "execution_count": 755,
   "metadata": {},
   "outputs": [],
   "source": [
    "# prepare lists for portfolio returns and volatilities\n",
    "prets = []\n",
    "pvols = []\n",
    "pSharpe =[]\n",
    "\n",
    "# randomly generate 2500 portfolios\n",
    "for p in range (2500):\n",
    "    weights = np.random.random(len(tickers))\n",
    "    weights /= np.sum(weights)\n",
    "        \n",
    "    # portfolio return\n",
    "    ret = np.sum(mean.values * weights) * 252\n",
    "    #portfolio volatility\n",
    "    vol = np.sqrt(np.dot(weights, \n",
    "                        np.dot(cov_matrix2 * 252, weights.T)))\n",
    "       \n",
    "    prets.append(ret)       \n",
    "    pvols.append(vol)\n",
    "    #portfolio Sharpe ratio\n",
    "    sharpe = ret/vol\n",
    "    pSharpe.append(sharpe)"
   ]
  },
  {
   "cell_type": "code",
   "execution_count": 726,
   "metadata": {},
   "outputs": [
    {
     "data": {
      "text/html": [
       "<div>\n",
       "<style scoped>\n",
       "    .dataframe tbody tr th:only-of-type {\n",
       "        vertical-align: middle;\n",
       "    }\n",
       "\n",
       "    .dataframe tbody tr th {\n",
       "        vertical-align: top;\n",
       "    }\n",
       "\n",
       "    .dataframe thead th {\n",
       "        text-align: right;\n",
       "    }\n",
       "</style>\n",
       "<table border=\"1\" class=\"dataframe\">\n",
       "  <thead>\n",
       "    <tr style=\"text-align: right;\">\n",
       "      <th></th>\n",
       "      <th>0</th>\n",
       "    </tr>\n",
       "  </thead>\n",
       "  <tbody>\n",
       "    <tr>\n",
       "      <th>SKA-B.ST</th>\n",
       "      <td>0.783439</td>\n",
       "    </tr>\n",
       "    <tr>\n",
       "      <th>EKTA-B.ST</th>\n",
       "      <td>4.141267</td>\n",
       "    </tr>\n",
       "    <tr>\n",
       "      <th>GETI-B.ST</th>\n",
       "      <td>-1.428054</td>\n",
       "    </tr>\n",
       "    <tr>\n",
       "      <th>ERIC-B.ST</th>\n",
       "      <td>-0.194761</td>\n",
       "    </tr>\n",
       "    <tr>\n",
       "      <th>TEL2-B.ST</th>\n",
       "      <td>4.307090</td>\n",
       "    </tr>\n",
       "    <tr>\n",
       "      <th>HM-B.ST</th>\n",
       "      <td>1.538537</td>\n",
       "    </tr>\n",
       "  </tbody>\n",
       "</table>\n",
       "</div>"
      ],
      "text/plain": [
       "                  0\n",
       "SKA-B.ST   0.783439\n",
       "EKTA-B.ST  4.141267\n",
       "GETI-B.ST -1.428054\n",
       "ERIC-B.ST -0.194761\n",
       "TEL2-B.ST  4.307090\n",
       "HM-B.ST    1.538537"
      ]
     },
     "execution_count": 726,
     "metadata": {},
     "output_type": "execute_result"
    }
   ],
   "source": [
    "mean * 252"
   ]
  },
  {
   "cell_type": "code",
   "execution_count": 759,
   "metadata": {},
   "outputs": [
    {
     "data": {
      "text/plain": [
       "Text(0.5, 1.0, 'Minimum risk portfolios for given return level (crosses)')"
      ]
     },
     "execution_count": 759,
     "metadata": {},
     "output_type": "execute_result"
    },
    {
     "data": {
      "image/png": "[encoded data removed]",
      "text/plain": [
       "<Figure size 864x576 with 2 Axes>"
      ]
     },
     "metadata": {
      "needs_background": "light"
     },
     "output_type": "display_data"
    }
   ],
   "source": [
    "plt.figure(figsize=(12, 8))\n",
    "plt.scatter(pvols, prets,\n",
    "            pSharpe, marker='o')\n",
    "            # random portfolio composition\n",
    "plt.scatter(tvols, trets, c = trets/tvols, marker='x')\n",
    "#             # efficient frontier\n",
    "plt.plot(portfolio_stats(opts['x'])[1], portfolio_stats(opts['x'])[0],'r*', markersize=15.0)\n",
    "           # portfolio with highest Sharpe ratio\n",
    "plt.plot(portfolio_stats(optv['x'])[1], portfolio_stats(optv['x'])[0],\n",
    "         'y*', markersize=15.0)\n",
    "#             # minimum variance portfolio\n",
    "plt.grid(True)\n",
    "plt.xlabel('portfolio standard deviation')\n",
    "plt.ylabel('expected return')\n",
    "plt.colorbar(label='Sharpe ratio')\n",
    "plt.title('Minimum risk portfolios for given return level (crosses)')"
   ]
  }
 ],
 "metadata": {
  "kernelspec": {
   "display_name": "Python 3",
   "language": "python",
   "name": "python3"
  },
  "language_info": {
   "codemirror_mode": {
    "name": "ipython",
    "version": 3
   },
   "file_extension": ".py",
   "mimetype": "text/x-python",
   "name": "python",
   "nbconvert_exporter": "python",
   "pygments_lexer": "ipython3",
   "version": "3.8.5"
  }
 },
 "nbformat": 4,
 "nbformat_minor": 4
}
