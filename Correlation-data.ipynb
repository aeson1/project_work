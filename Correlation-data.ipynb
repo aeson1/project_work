{
 "cells": [
  {
   "cell_type": "code",
   "execution_count": 35,
   "metadata": {},
   "outputs": [],
   "source": [
    "import numpy as np\n",
    "import pandas_datareader as pdr\n",
    "import pandas as pd\n",
    "import matplotlib.pyplot as plt\n",
    "from heapq import nsmallest"
   ]
  },
  {
   "cell_type": "code",
   "execution_count": 36,
   "metadata": {
    "scrolled": true
   },
   "outputs": [
    {
     "data": {
      "text/html": [
       "<div>\n",
       "<style scoped>\n",
       "    .dataframe tbody tr th:only-of-type {\n",
       "        vertical-align: middle;\n",
       "    }\n",
       "\n",
       "    .dataframe tbody tr th {\n",
       "        vertical-align: top;\n",
       "    }\n",
       "\n",
       "    .dataframe thead th {\n",
       "        text-align: right;\n",
       "    }\n",
       "</style>\n",
       "<table border=\"1\" class=\"dataframe\">\n",
       "  <thead>\n",
       "    <tr style=\"text-align: right;\">\n",
       "      <th>Symbols</th>\n",
       "      <th>ASSA-B.ST</th>\n",
       "      <th>ELUX-B.ST</th>\n",
       "      <th>EKTA-B.ST</th>\n",
       "      <th>ERIC-B.ST</th>\n",
       "      <th>GETI-B.ST</th>\n",
       "      <th>HM-B.ST</th>\n",
       "      <th>SCA-B.ST</th>\n",
       "      <th>SECU-B.ST</th>\n",
       "      <th>SKA-B.ST</th>\n",
       "      <th>SKF-B.ST</th>\n",
       "      <th>SSAB-B.ST</th>\n",
       "      <th>TEL2-B.ST</th>\n",
       "    </tr>\n",
       "    <tr>\n",
       "      <th>Date</th>\n",
       "      <th></th>\n",
       "      <th></th>\n",
       "      <th></th>\n",
       "      <th></th>\n",
       "      <th></th>\n",
       "      <th></th>\n",
       "      <th></th>\n",
       "      <th></th>\n",
       "      <th></th>\n",
       "      <th></th>\n",
       "      <th></th>\n",
       "      <th></th>\n",
       "    </tr>\n",
       "  </thead>\n",
       "  <tbody>\n",
       "    <tr>\n",
       "      <th>2000-01-03</th>\n",
       "      <td>40.000000</td>\n",
       "      <td>129.171005</td>\n",
       "      <td>2.57500</td>\n",
       "      <td>501.041992</td>\n",
       "      <td>18.7810</td>\n",
       "      <td>150.0</td>\n",
       "      <td>17.303699</td>\n",
       "      <td>158.0</td>\n",
       "      <td>79.500</td>\n",
       "      <td>54.250</td>\n",
       "      <td>29.715099</td>\n",
       "      <td>138.039001</td>\n",
       "    </tr>\n",
       "    <tr>\n",
       "      <th>2000-01-04</th>\n",
       "      <td>38.000000</td>\n",
       "      <td>127.376999</td>\n",
       "      <td>2.45000</td>\n",
       "      <td>499.235992</td>\n",
       "      <td>18.5853</td>\n",
       "      <td>144.0</td>\n",
       "      <td>16.657801</td>\n",
       "      <td>156.0</td>\n",
       "      <td>76.875</td>\n",
       "      <td>52.500</td>\n",
       "      <td>28.814699</td>\n",
       "      <td>126.234001</td>\n",
       "    </tr>\n",
       "    <tr>\n",
       "      <th>2000-01-05</th>\n",
       "      <td>38.000000</td>\n",
       "      <td>127.376999</td>\n",
       "      <td>2.45000</td>\n",
       "      <td>499.235992</td>\n",
       "      <td>18.5853</td>\n",
       "      <td>144.0</td>\n",
       "      <td>16.657801</td>\n",
       "      <td>156.0</td>\n",
       "      <td>307.500</td>\n",
       "      <td>52.500</td>\n",
       "      <td>39.340698</td>\n",
       "      <td>126.234001</td>\n",
       "    </tr>\n",
       "    <tr>\n",
       "      <th>2000-01-07</th>\n",
       "      <td>37.666698</td>\n",
       "      <td>125.283997</td>\n",
       "      <td>2.42500</td>\n",
       "      <td>464.028015</td>\n",
       "      <td>18.3897</td>\n",
       "      <td>138.5</td>\n",
       "      <td>18.017700</td>\n",
       "      <td>161.0</td>\n",
       "      <td>79.125</td>\n",
       "      <td>53.875</td>\n",
       "      <td>29.377501</td>\n",
       "      <td>121.898003</td>\n",
       "    </tr>\n",
       "    <tr>\n",
       "      <th>2000-01-10</th>\n",
       "      <td>39.666698</td>\n",
       "      <td>131.862000</td>\n",
       "      <td>2.45833</td>\n",
       "      <td>469.445007</td>\n",
       "      <td>19.0744</td>\n",
       "      <td>143.0</td>\n",
       "      <td>18.493601</td>\n",
       "      <td>165.0</td>\n",
       "      <td>79.875</td>\n",
       "      <td>57.000</td>\n",
       "      <td>29.715099</td>\n",
       "      <td>129.365997</td>\n",
       "    </tr>\n",
       "  </tbody>\n",
       "</table>\n",
       "</div>"
      ],
      "text/plain": [
       "Symbols     ASSA-B.ST   ELUX-B.ST  EKTA-B.ST   ERIC-B.ST  GETI-B.ST  HM-B.ST  \\\n",
       "Date                                                                           \n",
       "2000-01-03  40.000000  129.171005    2.57500  501.041992    18.7810    150.0   \n",
       "2000-01-04  38.000000  127.376999    2.45000  499.235992    18.5853    144.0   \n",
       "2000-01-05  38.000000  127.376999    2.45000  499.235992    18.5853    144.0   \n",
       "2000-01-07  37.666698  125.283997    2.42500  464.028015    18.3897    138.5   \n",
       "2000-01-10  39.666698  131.862000    2.45833  469.445007    19.0744    143.0   \n",
       "\n",
       "Symbols      SCA-B.ST  SECU-B.ST  SKA-B.ST  SKF-B.ST  SSAB-B.ST   TEL2-B.ST  \n",
       "Date                                                                         \n",
       "2000-01-03  17.303699      158.0    79.500    54.250  29.715099  138.039001  \n",
       "2000-01-04  16.657801      156.0    76.875    52.500  28.814699  126.234001  \n",
       "2000-01-05  16.657801      156.0   307.500    52.500  39.340698  126.234001  \n",
       "2000-01-07  18.017700      161.0    79.125    53.875  29.377501  121.898003  \n",
       "2000-01-10  18.493601      165.0    79.875    57.000  29.715099  129.365997  "
      ]
     },
     "execution_count": 36,
     "metadata": {},
     "output_type": "execute_result"
    }
   ],
   "source": [
    "tickers = ['ASSA-B.ST', 'ELUX-B.ST', 'EKTA-B.ST', 'ERIC-B.ST', 'GETI-B.ST', 'HM-B.ST', 'SCA-B.ST', 'SECU-B.ST', 'SKA-B.ST', 'SKF-B.ST', 'SSAB-B.ST', 'TEL2-B.ST']\n",
    "\n",
    "df = pdr.get_data_yahoo(tickers, start = '2000-01-01', end = '2020-12-10')['Close']\n",
    "\n",
    "df = df.dropna()\n",
    "\n",
    "df.head()"
   ]
  },
  {
   "cell_type": "code",
   "execution_count": 37,
   "metadata": {},
   "outputs": [
    {
     "name": "stdout",
     "output_type": "stream",
     "text": [
      "Symbols    ASSA-B.ST  ELUX-B.ST  EKTA-B.ST  ERIC-B.ST  GETI-B.ST   HM-B.ST  \\\n",
      "Symbols                                                                      \n",
      "ASSA-B.ST   1.000000   0.454468   0.255274   0.385269   0.315053  0.396324   \n",
      "ELUX-B.ST   0.454468   1.000000   0.240626   0.318442   0.298692  0.375544   \n",
      "EKTA-B.ST   0.255274   0.240626   1.000000   0.221748   0.290284  0.237557   \n",
      "ERIC-B.ST   0.385269   0.318442   0.221748   1.000000   0.232876  0.305432   \n",
      "GETI-B.ST   0.315053   0.298692   0.290284   0.232876   1.000000  0.239159   \n",
      "HM-B.ST     0.396324   0.375544   0.237557   0.305432   0.239159  1.000000   \n",
      "SCA-B.ST    0.429303   0.428988   0.261657   0.301119   0.312930  0.374638   \n",
      "SECU-B.ST   0.498337   0.392261   0.222917   0.331438   0.250203  0.344381   \n",
      "SKA-B.ST    0.104781   0.094587   0.055888   0.053643   0.048712  0.093464   \n",
      "SKF-B.ST    0.532091   0.535053   0.267601   0.328307   0.304000  0.383923   \n",
      "SSAB-B.ST   0.301567   0.332275   0.185393   0.206037   0.191423  0.275108   \n",
      "TEL2-B.ST   0.389349   0.338267   0.234786   0.426374   0.244743  0.332017   \n",
      "\n",
      "Symbols    SCA-B.ST  SECU-B.ST  SKA-B.ST  SKF-B.ST  SSAB-B.ST  TEL2-B.ST  \n",
      "Symbols                                                                   \n",
      "ASSA-B.ST  0.429303   0.498337  0.104781  0.532091   0.301567   0.389349  \n",
      "ELUX-B.ST  0.428988   0.392261  0.094587  0.535053   0.332275   0.338267  \n",
      "EKTA-B.ST  0.261657   0.222917  0.055888  0.267601   0.185393   0.234786  \n",
      "ERIC-B.ST  0.301119   0.331438  0.053643  0.328307   0.206037   0.426374  \n",
      "GETI-B.ST  0.312930   0.250203  0.048712  0.304000   0.191423   0.244743  \n",
      "HM-B.ST    0.374638   0.344381  0.093464  0.383923   0.275108   0.332017  \n",
      "SCA-B.ST   1.000000   0.354626  0.065304  0.474904   0.308052   0.335300  \n",
      "SECU-B.ST  0.354626   1.000000  0.087888  0.424269   0.273793   0.332541  \n",
      "SKA-B.ST   0.065304   0.087888  1.000000  0.112564   0.699398   0.089798  \n",
      "SKF-B.ST   0.474904   0.424269  0.112564  1.000000   0.426217   0.368187  \n",
      "SSAB-B.ST  0.308052   0.273793  0.699398  0.426217   1.000000   0.249903  \n",
      "TEL2-B.ST  0.335300   0.332541  0.089798  0.368187   0.249903   1.000000  \n"
     ]
    }
   ],
   "source": [
    "logReturn = np.log(df/df.shift(1))\n",
    "\n",
    "corr_matrix = logReturn.corr()\n",
    "\n",
    "corr_matrix_box_mean = corr_matrix.mean()\n",
    "\n",
    "print(corr_matrix)"
   ]
  },
  {
   "cell_type": "code",
   "execution_count": 38,
   "metadata": {},
   "outputs": [
    {
     "name": "stdout",
     "output_type": "stream",
     "text": [
      "Symbols\n",
      "ASSA-B.ST    0.421818\n",
      "ELUX-B.ST    0.400767\n",
      "EKTA-B.ST    0.289478\n",
      "ERIC-B.ST    0.342557\n",
      "GETI-B.ST    0.310673\n",
      "HM-B.ST      0.363129\n",
      "SCA-B.ST     0.387235\n",
      "SECU-B.ST    0.376054\n",
      "SKA-B.ST     0.208836\n",
      "SKF-B.ST     0.429760\n",
      "SSAB-B.ST    0.370764\n",
      "TEL2-B.ST    0.361772\n",
      "dtype: float64\n"
     ]
    }
   ],
   "source": [
    "print(corr_matrix_box_mean)"
   ]
  },
  {
   "cell_type": "code",
   "execution_count": 39,
   "metadata": {},
   "outputs": [
    {
     "data": {
      "text/plain": [
       "{'whiskers': [<matplotlib.lines.Line2D at 0x21749b21f70>,\n",
       "  <matplotlib.lines.Line2D at 0x21749b10310>],\n",
       " 'caps': [<matplotlib.lines.Line2D at 0x21749b10cd0>,\n",
       "  <matplotlib.lines.Line2D at 0x21749b10850>],\n",
       " 'boxes': [<matplotlib.lines.Line2D at 0x21749b21ac0>],\n",
       " 'medians': [<matplotlib.lines.Line2D at 0x21749b10100>],\n",
       " 'fliers': [<matplotlib.lines.Line2D at 0x21749b35820>],\n",
       " 'means': []}"
      ]
     },
     "execution_count": 39,
     "metadata": {},
     "output_type": "execute_result"
    },
    {
     "data": {
      "image/png": "[encoded data removed]",
      "text/plain": [
       "<Figure size 432x288 with 1 Axes>"
      ]
     },
     "metadata": {
      "needs_background": "light"
     },
     "output_type": "display_data"
    }
   ],
   "source": [
    "plt.boxplot(corr_matrix_box_mean)"
   ]
  },
  {
   "cell_type": "code",
   "execution_count": 66,
   "metadata": {},
   "outputs": [
    {
     "name": "stdout",
     "output_type": "stream",
     "text": [
      "[0.20883576781782845, 0.28947765189683256, 0.31067295273522894, 0.342557120815842, 0.3617721297398331, 0.36312896290882185]\n",
      "[SKA-B.ST,            EKTA-B.ST,           GETI-B.ST,           ERIC-B.ST,         TELE2-B.ST,         HM-B.st            ]\n"
     ]
    }
   ],
   "source": [
    "print(nsmallest(6, corr_matrix_box_mean))\n",
    "\n",
    "print('[SKA-B.ST,            EKTA-B.ST,           GETI-B.ST,           ERIC-B.ST,         TELE2-B.ST,         HM-B.st            ]')"
   ]
  },
  {
   "cell_type": "code",
   "execution_count": 46,
   "metadata": {},
   "outputs": [
    {
     "name": "stdout",
     "output_type": "stream",
     "text": [
      "SKA-B.ST\n"
     ]
    }
   ],
   "source": [
    "corr_matrix_box_mean_smallest = corr_matrix_box_mean.idxmin(axis = 1)\n",
    "\n",
    "print(corr_matrix_box_mean_smallest)"
   ]
  }
 ],
 "metadata": {
  "kernelspec": {
   "display_name": "Python 3",
   "language": "python",
   "name": "python3"
  },
  "language_info": {
   "codemirror_mode": {
    "name": "ipython",
    "version": 3
   },
   "file_extension": ".py",
   "mimetype": "text/x-python",
   "name": "python",
   "nbconvert_exporter": "python",
   "pygments_lexer": "ipython3",
   "version": "3.8.5"
  }
 },
 "nbformat": 4,
 "nbformat_minor": 4
}
